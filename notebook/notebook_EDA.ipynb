{
 "cells": [
  {
   "cell_type": "markdown",
   "id": "e1f8f451-8210-40ff-9881-562972bfa2cf",
   "metadata": {
    "tags": []
   },
   "source": [
    "# Table of Contents\n",
    "\n",
    "* [Introduction](#Introduction)\n",
    "* [Meta-data](#Meta-data)\n",
    "* [Exploratory Data Analysis (EDA)](#Exploratory-Data-Analysis)\n",
    "    * [Importing libraries](#Importing_libraries)\n",
    "    * [Descriptive Statistics](#Descriptive_Statistics)\n",
    "    * [Missing value imputation](#Missing_value_imputation)\n",
    "    * [Graphical representation](#Graphical_representation)\n",
    "    * [End Notes](#End_Notes)\n",
    "    \n",
    "---------------------\n",
    "---------------------"
   ]
  },
  {
   "cell_type": "markdown",
   "id": "ec8c40bb-5268-47ec-9cfd-d683fd177a09",
   "metadata": {
    "tags": []
   },
   "source": [
    "## Introduction <a class=\"anchor\" id=\"Introduction\"></a>"
   ]
  },
  {
   "cell_type": "markdown",
   "id": "5c511877-530f-44cb-8c66-e6ecfa124168",
   "metadata": {},
   "source": [
    "> Vous êtes développeur AI dans une startup de la Silicon Valley qui fournit des services dans le domaine de l'investissement immobilier.   \n",
    "Les chargés de relation client ont mentionné que la demande a augmenté récemment et qu'il devient difficile de faire des estimations personnalisées.  De ce fait, l'entreprise vous a confier d'automatiser cette tâche avec un modèle prédictif.   \n",
    "Pour cela, vous avez récupéré une base de données qui contient les prix médians des logements pour les districts de Californie issus du recensement de 1990"
   ]
  },
  {
   "cell_type": "markdown",
   "id": "948c0002-734d-409e-92c1-c15b5f42482b",
   "metadata": {
    "tags": []
   },
   "source": [
    "## Metadata <a class=\"anchor\" id=\"Meta-data\"></a>"
   ]
  },
  {
   "cell_type": "markdown",
   "id": "f4e37e1d-9c7a-418c-93d0-958d9fcd9a19",
   "metadata": {},
   "source": [
    "<li><u>longitude</u>\n",
    "<li><u>latitude</u>\n",
    "<li><u>housingMedianAge:</u> Âge médian d'une maison dans un pâté de maisons ; un chiffre plus bas correspond à un bâtiment plus récent.\n",
    "<li><u>totalRooms:</u> Nombre total de chambres dans un bloc\n",
    "<li><u>totalBedrooms:</u> Nombre total de chambres de lit dans un bloc\n",
    "<li><u>population:</u> Nombre total de personnes résidant dans un bloc\n",
    "<li><u>households:</u> Nombre total de ménages, c'est-à-dire un groupe de personnes résidant dans une unité d'habitation, pour un bloc\n",
    "<li><u>medianIncome:</u> Revenu médian des ménages dans un bloc de maisons (mesuré en dizaines de milliers de dollars US)\n",
    "<li><u>medianHouseValue:</u> Valeur médiane des maisons pour les ménages d'un bloc (mesurée en dollars US)\n",
    "<li><u>oceanProximity:</u> Situation de la maison par rapport à la mer"
   ]
  },
  {
   "cell_type": "markdown",
   "id": "63b56175-4847-46d7-9cce-b29049ca436a",
   "metadata": {},
   "source": [
    "--------------"
   ]
  },
  {
   "cell_type": "markdown",
   "id": "13d2f619-8a33-45fb-8219-5d67c711f830",
   "metadata": {
    "tags": []
   },
   "source": [
    "## Exploratory Data Analysis"
   ]
  },
  {
   "cell_type": "markdown",
   "id": "52e52b4b-a3b8-406d-8071-9a7cf11247b7",
   "metadata": {},
   "source": [
    "> EDA is the process of investigating the dataset to discover patterns, and anomalies (outliers), and form hypotheses based on our understanding of the dataset.   "
   ]
  },
  {
   "cell_type": "markdown",
   "id": "ced949c8-f8de-47bb-bccb-85d22a4d28af",
   "metadata": {},
   "source": [
    "> EDA involves generating summary statistics for numerical data in the dataset and creating various graphical representations to understand the data better.   "
   ]
  },
  {
   "cell_type": "markdown",
   "id": "cb37daeb-8184-4ac5-aedc-dd0be235b2cc",
   "metadata": {
    "tags": []
   },
   "source": [
    "### Importing Libraries "
   ]
  },
  {
   "cell_type": "code",
   "execution_count": 5,
   "id": "135fd43d-3873-49f0-8b08-7e743ab775b5",
   "metadata": {
    "collapsed": true,
    "jupyter": {
     "outputs_hidden": true
    },
    "tags": []
   },
   "outputs": [
    {
     "name": "stdout",
     "output_type": "stream",
     "text": [
      "Collecting numpy\n",
      "  Using cached numpy-1.21.2-cp39-cp39-win_amd64.whl (14.0 MB)\n",
      "Installing collected packages: numpy\n",
      "Successfully installed numpy-1.21.2\n",
      "Note: you may need to restart the kernel to use updated packages.\n"
     ]
    },
    {
     "name": "stderr",
     "output_type": "stream",
     "text": [
      "WARNING: You are using pip version 21.1.2; however, version 21.2.4 is available.\n",
      "You should consider upgrading via the 'c:\\users\\adils\\pycharmprojects\\housing_market_predictions\\venv\\scripts\\python.exe -m pip install --upgrade pip' command.\n"
     ]
    }
   ],
   "source": [
    "pip install numpy"
   ]
  },
  {
   "cell_type": "code",
   "execution_count": 7,
   "id": "7b733210-b8a3-408d-b817-e583b2d40865",
   "metadata": {
    "collapsed": true,
    "jupyter": {
     "outputs_hidden": true
    },
    "tags": []
   },
   "outputs": [
    {
     "name": "stdout",
     "output_type": "stream",
     "text": [
      "Collecting pandas\n",
      "  Downloading pandas-1.3.2-cp39-cp39-win_amd64.whl (10.2 MB)\n",
      "Note: you may need to restart the kernel to use updated packages.\n"
     ]
    },
    {
     "name": "stderr",
     "output_type": "stream",
     "text": [
      "WARNING: You are using pip version 21.1.2; however, version 21.2.4 is available.\n",
      "You should consider upgrading via the 'c:\\users\\adils\\pycharmprojects\\housing_market_predictions\\venv\\scripts\\python.exe -m pip install --upgrade pip' command.\n"
     ]
    },
    {
     "name": "stdout",
     "output_type": "stream",
     "text": [
      "Requirement already satisfied: pytz>=2017.3 in c:\\users\\adils\\pycharmprojects\\housing_market_predictions\\venv\\lib\\site-packages (from pandas) (2021.1)\n",
      "Requirement already satisfied: python-dateutil>=2.7.3 in c:\\users\\adils\\pycharmprojects\\housing_market_predictions\\venv\\lib\\site-packages (from pandas) (2.8.2)\n",
      "Requirement already satisfied: numpy>=1.17.3 in c:\\users\\adils\\pycharmprojects\\housing_market_predictions\\venv\\lib\\site-packages (from pandas) (1.21.2)\n",
      "Requirement already satisfied: six>=1.5 in c:\\users\\adils\\pycharmprojects\\housing_market_predictions\\venv\\lib\\site-packages (from python-dateutil>=2.7.3->pandas) (1.16.0)\n",
      "Installing collected packages: pandas\n",
      "Successfully installed pandas-1.3.2\n"
     ]
    }
   ],
   "source": [
    "pip install pandas"
   ]
  },
  {
   "cell_type": "code",
   "execution_count": 9,
   "id": "a9152b2b-424e-4f30-ad77-a11165993cbf",
   "metadata": {
    "collapsed": true,
    "jupyter": {
     "outputs_hidden": true
    },
    "tags": []
   },
   "outputs": [
    {
     "name": "stdout",
     "output_type": "stream",
     "text": [
      "Collecting matplotlib\n",
      "  Using cached matplotlib-3.4.3-cp39-cp39-win_amd64.whl (7.1 MB)\n",
      "Collecting cycler>=0.10\n",
      "  Using cached cycler-0.10.0-py2.py3-none-any.whl (6.5 kB)\n",
      "Requirement already satisfied: pyparsing>=2.2.1 in c:\\users\\adils\\pycharmprojects\\housing_market_predictions\\venv\\lib\\site-packages (from matplotlib) (2.4.7)\n",
      "Collecting kiwisolver>=1.0.1\n",
      "  Using cached kiwisolver-1.3.2-cp39-cp39-win_amd64.whl (52 kB)\n",
      "Collecting pillow>=6.2.0\n",
      "  Using cached Pillow-8.3.2-cp39-cp39-win_amd64.whl (3.2 MB)\n",
      "Requirement already satisfied: python-dateutil>=2.7 in c:\\users\\adils\\pycharmprojects\\housing_market_predictions\\venv\\lib\\site-packages (from matplotlib) (2.8.2)\n",
      "Requirement already satisfied: numpy>=1.16 in c:\\users\\adils\\pycharmprojects\\housing_market_predictions\\venv\\lib\\site-packages (from matplotlib) (1.21.2)\n",
      "Requirement already satisfied: six in c:\\users\\adils\\pycharmprojects\\housing_market_predictions\\venv\\lib\\site-packages (from cycler>=0.10->matplotlib) (1.16.0)\n",
      "Installing collected packages: pillow, kiwisolver, cycler, matplotlib\n",
      "Successfully installed cycler-0.10.0 kiwisolver-1.3.2 matplotlib-3.4.3 pillow-8.3.2\n",
      "Note: you may need to restart the kernel to use updated packages.\n"
     ]
    },
    {
     "name": "stderr",
     "output_type": "stream",
     "text": [
      "WARNING: You are using pip version 21.1.2; however, version 21.2.4 is available.\n",
      "You should consider upgrading via the 'c:\\users\\adils\\pycharmprojects\\housing_market_predictions\\venv\\scripts\\python.exe -m pip install --upgrade pip' command.\n"
     ]
    }
   ],
   "source": [
    "pip install matplotlib"
   ]
  },
  {
   "cell_type": "code",
   "execution_count": 10,
   "id": "19ce8c7a-b036-4c35-86c7-6bcee45729d1",
   "metadata": {
    "collapsed": true,
    "jupyter": {
     "outputs_hidden": true
    },
    "tags": []
   },
   "outputs": [
    {
     "name": "stdout",
     "output_type": "stream",
     "text": [
      "Collecting seaborn\n",
      "  Downloading seaborn-0.11.2-py3-none-any.whl (292 kB)\n",
      "Requirement already satisfied: matplotlib>=2.2 in c:\\users\\adils\\pycharmprojects\\housing_market_predictions\\venv\\lib\\site-packages (from seaborn) (3.4.3)\n",
      "Collecting scipy>=1.0\n",
      "  Downloading scipy-1.7.1-cp39-cp39-win_amd64.whl (33.8 MB)\n",
      "Requirement already satisfied: pandas>=0.23 in c:\\users\\adils\\pycharmprojects\\housing_market_predictions\\venv\\lib\\site-packages (from seaborn) (1.3.2)\n",
      "Requirement already satisfied: numpy>=1.15 in c:\\users\\adils\\pycharmprojects\\housing_market_predictions\\venv\\lib\\site-packages (from seaborn) (1.21.2)\n",
      "Requirement already satisfied: pillow>=6.2.0 in c:\\users\\adils\\pycharmprojects\\housing_market_predictions\\venv\\lib\\site-packages (from matplotlib>=2.2->seaborn) (8.3.2)\n",
      "Requirement already satisfied: python-dateutil>=2.7 in c:\\users\\adils\\pycharmprojects\\housing_market_predictions\\venv\\lib\\site-packages (from matplotlib>=2.2->seaborn) (2.8.2)\n",
      "Requirement already satisfied: cycler>=0.10 in c:\\users\\adils\\pycharmprojects\\housing_market_predictions\\venv\\lib\\site-packages (from matplotlib>=2.2->seaborn) (0.10.0)\n",
      "Requirement already satisfied: pyparsing>=2.2.1 in c:\\users\\adils\\pycharmprojects\\housing_market_predictions\\venv\\lib\\site-packages (from matplotlib>=2.2->seaborn) (2.4.7)\n",
      "Requirement already satisfied: kiwisolver>=1.0.1 in c:\\users\\adils\\pycharmprojects\\housing_market_predictions\\venv\\lib\\site-packages (from matplotlib>=2.2->seaborn) (1.3.2)\n",
      "Requirement already satisfied: six in c:\\users\\adils\\pycharmprojects\\housing_market_predictions\\venv\\lib\\site-packages (from cycler>=0.10->matplotlib>=2.2->seaborn) (1.16.0)\n",
      "Requirement already satisfied: pytz>=2017.3 in c:\\users\\adils\\pycharmprojects\\housing_market_predictions\\venv\\lib\\site-packages (from pandas>=0.23->seaborn) (2021.1)\n",
      "Installing collected packages: scipy, seaborn\n",
      "Successfully installed scipy-1.7.1 seaborn-0.11.2\n",
      "Note: you may need to restart the kernel to use updated packages.\n"
     ]
    },
    {
     "name": "stderr",
     "output_type": "stream",
     "text": [
      "WARNING: You are using pip version 21.1.2; however, version 21.2.4 is available.\n",
      "You should consider upgrading via the 'c:\\users\\adils\\pycharmprojects\\housing_market_predictions\\venv\\scripts\\python.exe -m pip install --upgrade pip' command.\n"
     ]
    }
   ],
   "source": [
    "pip install seaborn"
   ]
  },
  {
   "cell_type": "code",
   "execution_count": 2,
   "id": "532c99b7-186a-49d9-871c-f88ad24b2316",
   "metadata": {},
   "outputs": [],
   "source": [
    "import numpy as np\n",
    "import pandas as pd\n",
    "import matplotlib.pyplot as plt\n",
    "%matplotlib inline\n",
    "import seaborn as sns"
   ]
  },
  {
   "cell_type": "markdown",
   "id": "09c33771-b9af-4ca0-9cd7-982f9c55e970",
   "metadata": {},
   "source": [
    "### Reading data"
   ]
  },
  {
   "cell_type": "code",
   "execution_count": 3,
   "id": "e1623b37-fd12-4b6f-896a-c3a4e313afe7",
   "metadata": {
    "tags": []
   },
   "outputs": [
    {
     "data": {
      "text/html": [
       "<div>\n",
       "<style scoped>\n",
       "    .dataframe tbody tr th:only-of-type {\n",
       "        vertical-align: middle;\n",
       "    }\n",
       "\n",
       "    .dataframe tbody tr th {\n",
       "        vertical-align: top;\n",
       "    }\n",
       "\n",
       "    .dataframe thead th {\n",
       "        text-align: right;\n",
       "    }\n",
       "</style>\n",
       "<table border=\"1\" class=\"dataframe\">\n",
       "  <thead>\n",
       "    <tr style=\"text-align: right;\">\n",
       "      <th></th>\n",
       "      <th>Unnamed: 0</th>\n",
       "      <th>longitude</th>\n",
       "      <th>latitude</th>\n",
       "      <th>housing_median_age</th>\n",
       "      <th>total_rooms</th>\n",
       "      <th>total_bedrooms</th>\n",
       "      <th>population</th>\n",
       "      <th>households</th>\n",
       "      <th>median_income</th>\n",
       "      <th>median_house_value</th>\n",
       "      <th>ocean_proximity</th>\n",
       "    </tr>\n",
       "  </thead>\n",
       "  <tbody>\n",
       "    <tr>\n",
       "      <th>0</th>\n",
       "      <td>2072</td>\n",
       "      <td>-119.84</td>\n",
       "      <td>36.77</td>\n",
       "      <td>6.0</td>\n",
       "      <td>1853.0</td>\n",
       "      <td>473.0</td>\n",
       "      <td>1397.0</td>\n",
       "      <td>417.0</td>\n",
       "      <td>1.4817</td>\n",
       "      <td>72000.0</td>\n",
       "      <td>INLAND</td>\n",
       "    </tr>\n",
       "    <tr>\n",
       "      <th>1</th>\n",
       "      <td>10600</td>\n",
       "      <td>-117.80</td>\n",
       "      <td>33.68</td>\n",
       "      <td>8.0</td>\n",
       "      <td>2032.0</td>\n",
       "      <td>349.0</td>\n",
       "      <td>862.0</td>\n",
       "      <td>340.0</td>\n",
       "      <td>6.9133</td>\n",
       "      <td>274100.0</td>\n",
       "      <td>&lt;1H OCEAN</td>\n",
       "    </tr>\n",
       "    <tr>\n",
       "      <th>2</th>\n",
       "      <td>2494</td>\n",
       "      <td>-120.19</td>\n",
       "      <td>36.60</td>\n",
       "      <td>25.0</td>\n",
       "      <td>875.0</td>\n",
       "      <td>214.0</td>\n",
       "      <td>931.0</td>\n",
       "      <td>214.0</td>\n",
       "      <td>1.5536</td>\n",
       "      <td>58300.0</td>\n",
       "      <td>INLAND</td>\n",
       "    </tr>\n",
       "    <tr>\n",
       "      <th>3</th>\n",
       "      <td>4284</td>\n",
       "      <td>-118.32</td>\n",
       "      <td>34.10</td>\n",
       "      <td>31.0</td>\n",
       "      <td>622.0</td>\n",
       "      <td>229.0</td>\n",
       "      <td>597.0</td>\n",
       "      <td>227.0</td>\n",
       "      <td>1.5284</td>\n",
       "      <td>200000.0</td>\n",
       "      <td>&lt;1H OCEAN</td>\n",
       "    </tr>\n",
       "    <tr>\n",
       "      <th>4</th>\n",
       "      <td>16541</td>\n",
       "      <td>-121.23</td>\n",
       "      <td>37.79</td>\n",
       "      <td>21.0</td>\n",
       "      <td>1922.0</td>\n",
       "      <td>373.0</td>\n",
       "      <td>1130.0</td>\n",
       "      <td>372.0</td>\n",
       "      <td>4.0815</td>\n",
       "      <td>117900.0</td>\n",
       "      <td>INLAND</td>\n",
       "    </tr>\n",
       "    <tr>\n",
       "      <th>...</th>\n",
       "      <td>...</td>\n",
       "      <td>...</td>\n",
       "      <td>...</td>\n",
       "      <td>...</td>\n",
       "      <td>...</td>\n",
       "      <td>...</td>\n",
       "      <td>...</td>\n",
       "      <td>...</td>\n",
       "      <td>...</td>\n",
       "      <td>...</td>\n",
       "      <td>...</td>\n",
       "    </tr>\n",
       "    <tr>\n",
       "      <th>16507</th>\n",
       "      <td>1099</td>\n",
       "      <td>-121.90</td>\n",
       "      <td>39.59</td>\n",
       "      <td>20.0</td>\n",
       "      <td>1465.0</td>\n",
       "      <td>278.0</td>\n",
       "      <td>745.0</td>\n",
       "      <td>250.0</td>\n",
       "      <td>3.0625</td>\n",
       "      <td>93800.0</td>\n",
       "      <td>INLAND</td>\n",
       "    </tr>\n",
       "    <tr>\n",
       "      <th>16508</th>\n",
       "      <td>18898</td>\n",
       "      <td>-122.25</td>\n",
       "      <td>38.11</td>\n",
       "      <td>49.0</td>\n",
       "      <td>2365.0</td>\n",
       "      <td>504.0</td>\n",
       "      <td>1131.0</td>\n",
       "      <td>458.0</td>\n",
       "      <td>2.6133</td>\n",
       "      <td>103100.0</td>\n",
       "      <td>NEAR BAY</td>\n",
       "    </tr>\n",
       "    <tr>\n",
       "      <th>16509</th>\n",
       "      <td>11798</td>\n",
       "      <td>-121.22</td>\n",
       "      <td>38.92</td>\n",
       "      <td>19.0</td>\n",
       "      <td>2531.0</td>\n",
       "      <td>461.0</td>\n",
       "      <td>1206.0</td>\n",
       "      <td>429.0</td>\n",
       "      <td>4.4958</td>\n",
       "      <td>192600.0</td>\n",
       "      <td>INLAND</td>\n",
       "    </tr>\n",
       "    <tr>\n",
       "      <th>16510</th>\n",
       "      <td>6637</td>\n",
       "      <td>-118.14</td>\n",
       "      <td>34.16</td>\n",
       "      <td>39.0</td>\n",
       "      <td>2776.0</td>\n",
       "      <td>840.0</td>\n",
       "      <td>2546.0</td>\n",
       "      <td>773.0</td>\n",
       "      <td>2.5750</td>\n",
       "      <td>153500.0</td>\n",
       "      <td>&lt;1H OCEAN</td>\n",
       "    </tr>\n",
       "    <tr>\n",
       "      <th>16511</th>\n",
       "      <td>2575</td>\n",
       "      <td>-124.13</td>\n",
       "      <td>40.80</td>\n",
       "      <td>31.0</td>\n",
       "      <td>2152.0</td>\n",
       "      <td>462.0</td>\n",
       "      <td>1259.0</td>\n",
       "      <td>420.0</td>\n",
       "      <td>2.2478</td>\n",
       "      <td>81100.0</td>\n",
       "      <td>NEAR OCEAN</td>\n",
       "    </tr>\n",
       "  </tbody>\n",
       "</table>\n",
       "<p>16512 rows × 11 columns</p>\n",
       "</div>"
      ],
      "text/plain": [
       "       Unnamed: 0  longitude  latitude  housing_median_age  total_rooms  \\\n",
       "0            2072    -119.84     36.77                 6.0       1853.0   \n",
       "1           10600    -117.80     33.68                 8.0       2032.0   \n",
       "2            2494    -120.19     36.60                25.0        875.0   \n",
       "3            4284    -118.32     34.10                31.0        622.0   \n",
       "4           16541    -121.23     37.79                21.0       1922.0   \n",
       "...           ...        ...       ...                 ...          ...   \n",
       "16507        1099    -121.90     39.59                20.0       1465.0   \n",
       "16508       18898    -122.25     38.11                49.0       2365.0   \n",
       "16509       11798    -121.22     38.92                19.0       2531.0   \n",
       "16510        6637    -118.14     34.16                39.0       2776.0   \n",
       "16511        2575    -124.13     40.80                31.0       2152.0   \n",
       "\n",
       "       total_bedrooms  population  households  median_income  \\\n",
       "0               473.0      1397.0       417.0         1.4817   \n",
       "1               349.0       862.0       340.0         6.9133   \n",
       "2               214.0       931.0       214.0         1.5536   \n",
       "3               229.0       597.0       227.0         1.5284   \n",
       "4               373.0      1130.0       372.0         4.0815   \n",
       "...               ...         ...         ...            ...   \n",
       "16507           278.0       745.0       250.0         3.0625   \n",
       "16508           504.0      1131.0       458.0         2.6133   \n",
       "16509           461.0      1206.0       429.0         4.4958   \n",
       "16510           840.0      2546.0       773.0         2.5750   \n",
       "16511           462.0      1259.0       420.0         2.2478   \n",
       "\n",
       "       median_house_value ocean_proximity  \n",
       "0                 72000.0          INLAND  \n",
       "1                274100.0       <1H OCEAN  \n",
       "2                 58300.0          INLAND  \n",
       "3                200000.0       <1H OCEAN  \n",
       "4                117900.0          INLAND  \n",
       "...                   ...             ...  \n",
       "16507             93800.0          INLAND  \n",
       "16508            103100.0        NEAR BAY  \n",
       "16509            192600.0          INLAND  \n",
       "16510            153500.0       <1H OCEAN  \n",
       "16511             81100.0      NEAR OCEAN  \n",
       "\n",
       "[16512 rows x 11 columns]"
      ]
     },
     "execution_count": 3,
     "metadata": {},
     "output_type": "execute_result"
    }
   ],
   "source": [
    "df = pd.read_csv(r'./data/data_raw.csv')\n",
    "df"
   ]
  },
  {
   "cell_type": "code",
   "execution_count": 4,
   "id": "8ac2ba9b-4480-4ddb-a053-b07ccfc1f7fa",
   "metadata": {
    "tags": []
   },
   "outputs": [],
   "source": [
    "#droping 'Unnamed: 0' column\n",
    "df_updated = df.drop(['Unnamed: 0'], axis=1)"
   ]
  },
  {
   "cell_type": "markdown",
   "id": "583bf606-796d-4918-8673-14147f9bed65",
   "metadata": {},
   "source": [
    "### Descriptive Statistics"
   ]
  },
  {
   "cell_type": "code",
   "execution_count": 5,
   "id": "9e393299-fe69-4a8a-8338-dcf10d9a193e",
   "metadata": {
    "tags": []
   },
   "outputs": [
    {
     "data": {
      "text/html": [
       "<div>\n",
       "<style scoped>\n",
       "    .dataframe tbody tr th:only-of-type {\n",
       "        vertical-align: middle;\n",
       "    }\n",
       "\n",
       "    .dataframe tbody tr th {\n",
       "        vertical-align: top;\n",
       "    }\n",
       "\n",
       "    .dataframe thead th {\n",
       "        text-align: right;\n",
       "    }\n",
       "</style>\n",
       "<table border=\"1\" class=\"dataframe\">\n",
       "  <thead>\n",
       "    <tr style=\"text-align: right;\">\n",
       "      <th></th>\n",
       "      <th>longitude</th>\n",
       "      <th>latitude</th>\n",
       "      <th>housing_median_age</th>\n",
       "      <th>total_rooms</th>\n",
       "      <th>total_bedrooms</th>\n",
       "      <th>population</th>\n",
       "      <th>households</th>\n",
       "      <th>median_income</th>\n",
       "      <th>median_house_value</th>\n",
       "      <th>ocean_proximity</th>\n",
       "    </tr>\n",
       "  </thead>\n",
       "  <tbody>\n",
       "    <tr>\n",
       "      <th>count</th>\n",
       "      <td>16512.000000</td>\n",
       "      <td>16512.000000</td>\n",
       "      <td>16512.000000</td>\n",
       "      <td>16512.000000</td>\n",
       "      <td>16336.000000</td>\n",
       "      <td>16512.000000</td>\n",
       "      <td>16512.000000</td>\n",
       "      <td>16512.000000</td>\n",
       "      <td>16512.000000</td>\n",
       "      <td>16512</td>\n",
       "    </tr>\n",
       "    <tr>\n",
       "      <th>unique</th>\n",
       "      <td>NaN</td>\n",
       "      <td>NaN</td>\n",
       "      <td>NaN</td>\n",
       "      <td>NaN</td>\n",
       "      <td>NaN</td>\n",
       "      <td>NaN</td>\n",
       "      <td>NaN</td>\n",
       "      <td>NaN</td>\n",
       "      <td>NaN</td>\n",
       "      <td>5</td>\n",
       "    </tr>\n",
       "    <tr>\n",
       "      <th>top</th>\n",
       "      <td>NaN</td>\n",
       "      <td>NaN</td>\n",
       "      <td>NaN</td>\n",
       "      <td>NaN</td>\n",
       "      <td>NaN</td>\n",
       "      <td>NaN</td>\n",
       "      <td>NaN</td>\n",
       "      <td>NaN</td>\n",
       "      <td>NaN</td>\n",
       "      <td>&lt;1H OCEAN</td>\n",
       "    </tr>\n",
       "    <tr>\n",
       "      <th>freq</th>\n",
       "      <td>NaN</td>\n",
       "      <td>NaN</td>\n",
       "      <td>NaN</td>\n",
       "      <td>NaN</td>\n",
       "      <td>NaN</td>\n",
       "      <td>NaN</td>\n",
       "      <td>NaN</td>\n",
       "      <td>NaN</td>\n",
       "      <td>NaN</td>\n",
       "      <td>7312</td>\n",
       "    </tr>\n",
       "    <tr>\n",
       "      <th>mean</th>\n",
       "      <td>-119.564046</td>\n",
       "      <td>35.626523</td>\n",
       "      <td>28.624516</td>\n",
       "      <td>2644.170603</td>\n",
       "      <td>539.319540</td>\n",
       "      <td>1435.017260</td>\n",
       "      <td>501.135962</td>\n",
       "      <td>3.864091</td>\n",
       "      <td>206509.251453</td>\n",
       "      <td>NaN</td>\n",
       "    </tr>\n",
       "    <tr>\n",
       "      <th>std</th>\n",
       "      <td>2.005033</td>\n",
       "      <td>2.139150</td>\n",
       "      <td>12.597980</td>\n",
       "      <td>2213.946369</td>\n",
       "      <td>425.207704</td>\n",
       "      <td>1158.151967</td>\n",
       "      <td>385.650673</td>\n",
       "      <td>1.893244</td>\n",
       "      <td>115225.957661</td>\n",
       "      <td>NaN</td>\n",
       "    </tr>\n",
       "    <tr>\n",
       "      <th>min</th>\n",
       "      <td>-124.350000</td>\n",
       "      <td>32.540000</td>\n",
       "      <td>1.000000</td>\n",
       "      <td>6.000000</td>\n",
       "      <td>2.000000</td>\n",
       "      <td>3.000000</td>\n",
       "      <td>2.000000</td>\n",
       "      <td>0.499900</td>\n",
       "      <td>14999.000000</td>\n",
       "      <td>NaN</td>\n",
       "    </tr>\n",
       "    <tr>\n",
       "      <th>25%</th>\n",
       "      <td>-121.790000</td>\n",
       "      <td>33.930000</td>\n",
       "      <td>18.000000</td>\n",
       "      <td>1446.000000</td>\n",
       "      <td>296.000000</td>\n",
       "      <td>788.000000</td>\n",
       "      <td>280.000000</td>\n",
       "      <td>2.562500</td>\n",
       "      <td>119400.000000</td>\n",
       "      <td>NaN</td>\n",
       "    </tr>\n",
       "    <tr>\n",
       "      <th>50%</th>\n",
       "      <td>-118.490000</td>\n",
       "      <td>34.250000</td>\n",
       "      <td>29.000000</td>\n",
       "      <td>2116.000000</td>\n",
       "      <td>435.000000</td>\n",
       "      <td>1168.000000</td>\n",
       "      <td>410.000000</td>\n",
       "      <td>3.531300</td>\n",
       "      <td>179300.000000</td>\n",
       "      <td>NaN</td>\n",
       "    </tr>\n",
       "    <tr>\n",
       "      <th>75%</th>\n",
       "      <td>-118.010000</td>\n",
       "      <td>37.710000</td>\n",
       "      <td>37.000000</td>\n",
       "      <td>3154.000000</td>\n",
       "      <td>647.000000</td>\n",
       "      <td>1738.000000</td>\n",
       "      <td>606.000000</td>\n",
       "      <td>4.733225</td>\n",
       "      <td>264500.000000</td>\n",
       "      <td>NaN</td>\n",
       "    </tr>\n",
       "    <tr>\n",
       "      <th>max</th>\n",
       "      <td>-114.310000</td>\n",
       "      <td>41.950000</td>\n",
       "      <td>52.000000</td>\n",
       "      <td>39320.000000</td>\n",
       "      <td>6445.000000</td>\n",
       "      <td>35682.000000</td>\n",
       "      <td>6082.000000</td>\n",
       "      <td>15.000100</td>\n",
       "      <td>500001.000000</td>\n",
       "      <td>NaN</td>\n",
       "    </tr>\n",
       "  </tbody>\n",
       "</table>\n",
       "</div>"
      ],
      "text/plain": [
       "           longitude      latitude  housing_median_age   total_rooms  \\\n",
       "count   16512.000000  16512.000000        16512.000000  16512.000000   \n",
       "unique           NaN           NaN                 NaN           NaN   \n",
       "top              NaN           NaN                 NaN           NaN   \n",
       "freq             NaN           NaN                 NaN           NaN   \n",
       "mean     -119.564046     35.626523           28.624516   2644.170603   \n",
       "std         2.005033      2.139150           12.597980   2213.946369   \n",
       "min      -124.350000     32.540000            1.000000      6.000000   \n",
       "25%      -121.790000     33.930000           18.000000   1446.000000   \n",
       "50%      -118.490000     34.250000           29.000000   2116.000000   \n",
       "75%      -118.010000     37.710000           37.000000   3154.000000   \n",
       "max      -114.310000     41.950000           52.000000  39320.000000   \n",
       "\n",
       "        total_bedrooms    population    households  median_income  \\\n",
       "count     16336.000000  16512.000000  16512.000000   16512.000000   \n",
       "unique             NaN           NaN           NaN            NaN   \n",
       "top                NaN           NaN           NaN            NaN   \n",
       "freq               NaN           NaN           NaN            NaN   \n",
       "mean        539.319540   1435.017260    501.135962       3.864091   \n",
       "std         425.207704   1158.151967    385.650673       1.893244   \n",
       "min           2.000000      3.000000      2.000000       0.499900   \n",
       "25%         296.000000    788.000000    280.000000       2.562500   \n",
       "50%         435.000000   1168.000000    410.000000       3.531300   \n",
       "75%         647.000000   1738.000000    606.000000       4.733225   \n",
       "max        6445.000000  35682.000000   6082.000000      15.000100   \n",
       "\n",
       "        median_house_value ocean_proximity  \n",
       "count         16512.000000           16512  \n",
       "unique                 NaN               5  \n",
       "top                    NaN       <1H OCEAN  \n",
       "freq                   NaN            7312  \n",
       "mean         206509.251453             NaN  \n",
       "std          115225.957661             NaN  \n",
       "min           14999.000000             NaN  \n",
       "25%          119400.000000             NaN  \n",
       "50%          179300.000000             NaN  \n",
       "75%          264500.000000             NaN  \n",
       "max          500001.000000             NaN  "
      ]
     },
     "execution_count": 5,
     "metadata": {},
     "output_type": "execute_result"
    }
   ],
   "source": [
    "df_updated.describe(include='all')"
   ]
  },
  {
   "cell_type": "markdown",
   "id": "b8e45856-ca0e-4e09-9050-b00dbb9e3cf9",
   "metadata": {},
   "source": [
    "### Missing value Imputation"
   ]
  },
  {
   "cell_type": "code",
   "execution_count": 6,
   "id": "d3901288-7605-432d-86de-db3c0a735081",
   "metadata": {
    "tags": []
   },
   "outputs": [
    {
     "data": {
      "text/plain": [
       "longitude               0\n",
       "latitude                0\n",
       "housing_median_age      0\n",
       "total_rooms             0\n",
       "total_bedrooms        176\n",
       "population              0\n",
       "households              0\n",
       "median_income           0\n",
       "median_house_value      0\n",
       "ocean_proximity         0\n",
       "dtype: int64"
      ]
     },
     "execution_count": 6,
     "metadata": {},
     "output_type": "execute_result"
    }
   ],
   "source": [
    "df_updated.isnull().sum()"
   ]
  },
  {
   "cell_type": "markdown",
   "id": "01ca5c18-c45b-446c-b758-862deb7682b4",
   "metadata": {},
   "source": [
    "> We have 176 total_bedrooms feauture rows which are null, so we could either drop those rows with no such a big impact since they represents only 1% of dataset's instances or replacing them with dataset's feature based linear regression model preditcions."
   ]
  },
  {
   "cell_type": "markdown",
   "id": "83302292-577c-4b8a-8614-0d6d54b16f90",
   "metadata": {},
   "source": [
    "--------"
   ]
  },
  {
   "cell_type": "markdown",
   "id": "96378454-f135-4bb7-824d-8db49fc2b0f5",
   "metadata": {},
   "source": [
    "> In this case we'll just drop them."
   ]
  },
  {
   "cell_type": "code",
   "execution_count": 7,
   "id": "c231a803-6d0a-46b0-8982-70a9b6a0bc84",
   "metadata": {
    "tags": []
   },
   "outputs": [],
   "source": [
    "df_updated=df_updated.dropna(subset=['total_bedrooms'], axis='rows')"
   ]
  },
  {
   "cell_type": "code",
   "execution_count": 8,
   "id": "94b0ca8b-3417-48f6-835a-49b2c227e78b",
   "metadata": {
    "tags": []
   },
   "outputs": [
    {
     "data": {
      "text/plain": [
       "longitude             0\n",
       "latitude              0\n",
       "housing_median_age    0\n",
       "total_rooms           0\n",
       "total_bedrooms        0\n",
       "population            0\n",
       "households            0\n",
       "median_income         0\n",
       "median_house_value    0\n",
       "ocean_proximity       0\n",
       "dtype: int64"
      ]
     },
     "execution_count": 8,
     "metadata": {},
     "output_type": "execute_result"
    }
   ],
   "source": [
    "#checking if missing values column rows have been dropped\n",
    "df_updated.isnull().sum()"
   ]
  },
  {
   "cell_type": "markdown",
   "id": "14dd7d65-e17f-415b-acc9-0e46f8e0d48e",
   "metadata": {},
   "source": [
    "### Graphical representation"
   ]
  },
  {
   "cell_type": "markdown",
   "id": "21eebaa6-7289-4b3f-b08c-5f61c81f4024",
   "metadata": {},
   "source": [
    "#### Univariate analysis"
   ]
  },
  {
   "cell_type": "code",
   "execution_count": 11,
   "id": "dac6a194-d963-4930-91d3-f4a53aafb666",
   "metadata": {},
   "outputs": [
    {
     "data": {
      "text/plain": [
       "<AxesSubplot:>"
      ]
     },
     "execution_count": 11,
     "metadata": {},
     "output_type": "execute_result"
    },
    {
     "data": {
      "image/png": "[encoded data removed]",
      "text/plain": [
       "<Figure size 1152x648 with 1 Axes>"
      ]
     },
     "metadata": {
      "needs_background": "light"
     },
     "output_type": "display_data"
    }
   ],
   "source": [
    "df_updated.iloc[:, 2:8].boxplot(figsize=(16,9))"
   ]
  },
  {
   "cell_type": "markdown",
   "id": "f3f5dfd1-8956-43f5-8333-c9a62741f982",
   "metadata": {
    "tags": []
   },
   "source": [
    "### End Notes"
   ]
  },
  {
   "cell_type": "code",
   "execution_count": null,
   "id": "d48e6e1c-7bab-4a87-bc68-1f7b45418fa6",
   "metadata": {},
   "outputs": [],
   "source": []
  }
 ],
 "metadata": {
  "kernelspec": {
   "display_name": "Python 3 (ipykernel)",
   "language": "python",
   "name": "python3"
  },
  "language_info": {
   "codemirror_mode": {
    "name": "ipython",
    "version": 3
   },
   "file_extension": ".py",
   "mimetype": "text/x-python",
   "name": "python",
   "nbconvert_exporter": "python",
   "pygments_lexer": "ipython3",
   "version": "3.9.7"
  },
  "toc-autonumbering": false,
  "toc-showcode": false,
  "toc-showmarkdowntxt": false
 },
 "nbformat": 4,
 "nbformat_minor": 5
}
