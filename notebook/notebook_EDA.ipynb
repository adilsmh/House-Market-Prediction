{
 "cells": [
  {
   "cell_type": "markdown",
   "id": "e1f8f451-8210-40ff-9881-562972bfa2cf",
   "metadata": {
    "tags": []
   },
   "source": [
    "# Table of Contents\n",
    "\n",
    "* [Introduction](#Introduction)\n",
    "* [Meta-data](#Meta-data)\n",
    "* [Exploratory Data Analysis (EDA)](#Exploratory-Data-Analysis)\n",
    "    * [Importing libraries](#Importing_libraries)\n",
    "    * [Descriptive Statistics](#Descriptive_Statistics)\n",
    "    * [Missing value imputation](#Missing_value_imputation)\n",
    "    * [Graphical representation](#Graphical_representation)\n",
    "    * [End Notes](#End_Notes)"
   ]
  },
  {
   "cell_type": "markdown",
   "id": "ec8c40bb-5268-47ec-9cfd-d683fd177a09",
   "metadata": {
    "tags": []
   },
   "source": [
    "## Introduction <a class=\"anchor\" id=\"Introduction\"></a>"
   ]
  },
  {
   "cell_type": "markdown",
   "id": "5c511877-530f-44cb-8c66-e6ecfa124168",
   "metadata": {},
   "source": [
    "Vous êtes développeur AI dans une startup de la Silicon Valley qui fournit des services dans le domaine de l'investissement immobilier.\n",
    "Les chargés de relation client ont mentionné que la demande a augmenté récemment et qu'il devient difficile de faire des estimations personnalisées.\n",
    "De ce fait, l'entreprise vous a confier d'automatiser cette tâche avec un modèle prédictif.\n",
    "Pour cela, vous avez récupéré une base de données qui contient les prix médians des logements pour les districts de Californie issus du recensement de 1990"
   ]
  },
  {
   "cell_type": "markdown",
   "id": "948c0002-734d-409e-92c1-c15b5f42482b",
   "metadata": {
    "tags": []
   },
   "source": [
    "## Metadata <a class=\"anchor\" id=\"Meta-data\"></a>"
   ]
  },
  {
   "cell_type": "markdown",
   "id": "f4e37e1d-9c7a-418c-93d0-958d9fcd9a19",
   "metadata": {},
   "source": [
    "`longitude`\n",
    "`latitude`\n",
    "`housingMedianAge` | Âge médian d'une maison dans un pâté de maisons ; un chiffre plus bas correspond à un bâtiment plus récent.\n",
    "`totalRooms` | Nombre total de chambres dans un bloc\n",
    "`totalBedrooms` |  Nombre total de chambres de lit dans un bloc\n",
    "`population` Nombre total de personnes résidant dans un bloc\n",
    "`households`| Nombre total de ménages, c'est-à-dire un groupe de personnes résidant dans une unité d'habitation, pour un bloc\n",
    "`medianIncome` | Revenu médian des ménages dans un bloc de maisons (mesuré en dizaines de milliers de dollars US)\n",
    "`medianHouseValue` | Valeur médiane des maisons pour les ménages d'un bloc (mesurée en dollars US)\n",
    "`oceanProximity` | Situation de la maison par rapport à la mer"
   ]
  },
  {
   "cell_type": "markdown",
   "id": "13d2f619-8a33-45fb-8219-5d67c711f830",
   "metadata": {
    "tags": []
   },
   "source": [
    "## Exploratory Data Analysis"
   ]
  },
  {
   "cell_type": "markdown",
   "id": "52e52b4b-a3b8-406d-8071-9a7cf11247b7",
   "metadata": {},
   "source": [
    "EDA is the process of investigating the dataset to discover patterns, and anomalies (outliers), and form hypotheses based on our understanding of the dataset."
   ]
  },
  {
   "cell_type": "markdown",
   "id": "ced949c8-f8de-47bb-bccb-85d22a4d28af",
   "metadata": {},
   "source": [
    "EDA involves generating summary statistics for numerical data in the dataset and creating various graphical representations to understand the data better."
   ]
  },
  {
   "cell_type": "markdown",
   "id": "cb37daeb-8184-4ac5-aedc-dd0be235b2cc",
   "metadata": {
    "tags": []
   },
   "source": [
    "### Importing Libraries"
   ]
  },
  {
   "cell_type": "code",
   "execution_count": 2,
   "id": "532c99b7-186a-49d9-871c-f88ad24b2316",
   "metadata": {},
   "outputs": [],
   "source": [
    "import numpy as np\n",
    "import pandas as pd\n",
    "import matplotlib.pyplot as plt\n",
    "%matplotlib inline\n",
    "import seaborn as sns"
   ]
  },
  {
   "cell_type": "markdown",
   "id": "09c33771-b9af-4ca0-9cd7-982f9c55e970",
   "metadata": {},
   "source": [
    "### Reading data"
   ]
  },
  {
   "cell_type": "code",
   "execution_count": 6,
   "id": "e1623b37-fd12-4b6f-896a-c3a4e313afe7",
   "metadata": {
    "tags": []
   },
   "outputs": [
    {
     "data": {
      "text/plain": "       Unnamed: 0  longitude  latitude  housing_median_age  total_rooms  \\\n0            2072    -119.84     36.77                 6.0       1853.0   \n1           10600    -117.80     33.68                 8.0       2032.0   \n2            2494    -120.19     36.60                25.0        875.0   \n3            4284    -118.32     34.10                31.0        622.0   \n4           16541    -121.23     37.79                21.0       1922.0   \n...           ...        ...       ...                 ...          ...   \n16507        1099    -121.90     39.59                20.0       1465.0   \n16508       18898    -122.25     38.11                49.0       2365.0   \n16509       11798    -121.22     38.92                19.0       2531.0   \n16510        6637    -118.14     34.16                39.0       2776.0   \n16511        2575    -124.13     40.80                31.0       2152.0   \n\n       total_bedrooms  population  households  median_income  \\\n0               473.0      1397.0       417.0         1.4817   \n1               349.0       862.0       340.0         6.9133   \n2               214.0       931.0       214.0         1.5536   \n3               229.0       597.0       227.0         1.5284   \n4               373.0      1130.0       372.0         4.0815   \n...               ...         ...         ...            ...   \n16507           278.0       745.0       250.0         3.0625   \n16508           504.0      1131.0       458.0         2.6133   \n16509           461.0      1206.0       429.0         4.4958   \n16510           840.0      2546.0       773.0         2.5750   \n16511           462.0      1259.0       420.0         2.2478   \n\n       median_house_value ocean_proximity  \n0                 72000.0          INLAND  \n1                274100.0       <1H OCEAN  \n2                 58300.0          INLAND  \n3                200000.0       <1H OCEAN  \n4                117900.0          INLAND  \n...                   ...             ...  \n16507             93800.0          INLAND  \n16508            103100.0        NEAR BAY  \n16509            192600.0          INLAND  \n16510            153500.0       <1H OCEAN  \n16511             81100.0      NEAR OCEAN  \n\n[16512 rows x 11 columns]",
      "text/html": "<div>\n<style scoped>\n    .dataframe tbody tr th:only-of-type {\n        vertical-align: middle;\n    }\n\n    .dataframe tbody tr th {\n        vertical-align: top;\n    }\n\n    .dataframe thead th {\n        text-align: right;\n    }\n</style>\n<table border=\"1\" class=\"dataframe\">\n  <thead>\n    <tr style=\"text-align: right;\">\n      <th></th>\n      <th>Unnamed: 0</th>\n      <th>longitude</th>\n      <th>latitude</th>\n      <th>housing_median_age</th>\n      <th>total_rooms</th>\n      <th>total_bedrooms</th>\n      <th>population</th>\n      <th>households</th>\n      <th>median_income</th>\n      <th>median_house_value</th>\n      <th>ocean_proximity</th>\n    </tr>\n  </thead>\n  <tbody>\n    <tr>\n      <th>0</th>\n      <td>2072</td>\n      <td>-119.84</td>\n      <td>36.77</td>\n      <td>6.0</td>\n      <td>1853.0</td>\n      <td>473.0</td>\n      <td>1397.0</td>\n      <td>417.0</td>\n      <td>1.4817</td>\n      <td>72000.0</td>\n      <td>INLAND</td>\n    </tr>\n    <tr>\n      <th>1</th>\n      <td>10600</td>\n      <td>-117.80</td>\n      <td>33.68</td>\n      <td>8.0</td>\n      <td>2032.0</td>\n      <td>349.0</td>\n      <td>862.0</td>\n      <td>340.0</td>\n      <td>6.9133</td>\n      <td>274100.0</td>\n      <td>&lt;1H OCEAN</td>\n    </tr>\n    <tr>\n      <th>2</th>\n      <td>2494</td>\n      <td>-120.19</td>\n      <td>36.60</td>\n      <td>25.0</td>\n      <td>875.0</td>\n      <td>214.0</td>\n      <td>931.0</td>\n      <td>214.0</td>\n      <td>1.5536</td>\n      <td>58300.0</td>\n      <td>INLAND</td>\n    </tr>\n    <tr>\n      <th>3</th>\n      <td>4284</td>\n      <td>-118.32</td>\n      <td>34.10</td>\n      <td>31.0</td>\n      <td>622.0</td>\n      <td>229.0</td>\n      <td>597.0</td>\n      <td>227.0</td>\n      <td>1.5284</td>\n      <td>200000.0</td>\n      <td>&lt;1H OCEAN</td>\n    </tr>\n    <tr>\n      <th>4</th>\n      <td>16541</td>\n      <td>-121.23</td>\n      <td>37.79</td>\n      <td>21.0</td>\n      <td>1922.0</td>\n      <td>373.0</td>\n      <td>1130.0</td>\n      <td>372.0</td>\n      <td>4.0815</td>\n      <td>117900.0</td>\n      <td>INLAND</td>\n    </tr>\n    <tr>\n      <th>...</th>\n      <td>...</td>\n      <td>...</td>\n      <td>...</td>\n      <td>...</td>\n      <td>...</td>\n      <td>...</td>\n      <td>...</td>\n      <td>...</td>\n      <td>...</td>\n      <td>...</td>\n      <td>...</td>\n    </tr>\n    <tr>\n      <th>16507</th>\n      <td>1099</td>\n      <td>-121.90</td>\n      <td>39.59</td>\n      <td>20.0</td>\n      <td>1465.0</td>\n      <td>278.0</td>\n      <td>745.0</td>\n      <td>250.0</td>\n      <td>3.0625</td>\n      <td>93800.0</td>\n      <td>INLAND</td>\n    </tr>\n    <tr>\n      <th>16508</th>\n      <td>18898</td>\n      <td>-122.25</td>\n      <td>38.11</td>\n      <td>49.0</td>\n      <td>2365.0</td>\n      <td>504.0</td>\n      <td>1131.0</td>\n      <td>458.0</td>\n      <td>2.6133</td>\n      <td>103100.0</td>\n      <td>NEAR BAY</td>\n    </tr>\n    <tr>\n      <th>16509</th>\n      <td>11798</td>\n      <td>-121.22</td>\n      <td>38.92</td>\n      <td>19.0</td>\n      <td>2531.0</td>\n      <td>461.0</td>\n      <td>1206.0</td>\n      <td>429.0</td>\n      <td>4.4958</td>\n      <td>192600.0</td>\n      <td>INLAND</td>\n    </tr>\n    <tr>\n      <th>16510</th>\n      <td>6637</td>\n      <td>-118.14</td>\n      <td>34.16</td>\n      <td>39.0</td>\n      <td>2776.0</td>\n      <td>840.0</td>\n      <td>2546.0</td>\n      <td>773.0</td>\n      <td>2.5750</td>\n      <td>153500.0</td>\n      <td>&lt;1H OCEAN</td>\n    </tr>\n    <tr>\n      <th>16511</th>\n      <td>2575</td>\n      <td>-124.13</td>\n      <td>40.80</td>\n      <td>31.0</td>\n      <td>2152.0</td>\n      <td>462.0</td>\n      <td>1259.0</td>\n      <td>420.0</td>\n      <td>2.2478</td>\n      <td>81100.0</td>\n      <td>NEAR OCEAN</td>\n    </tr>\n  </tbody>\n</table>\n<p>16512 rows × 11 columns</p>\n</div>"
     },
     "execution_count": 6,
     "metadata": {},
     "output_type": "execute_result"
    }
   ],
   "source": [
    "df = pd.read_csv('../data/data_raw.csv')\n",
    "df"
   ]
  },
  {
   "cell_type": "code",
   "execution_count": 16,
   "id": "8ac2ba9b-4480-4ddb-a053-b07ccfc1f7fa",
   "metadata": {
    "tags": []
   },
   "outputs": [],
   "source": [
    "#droping 'Unnamed: 0' column\n",
    "df_fltd = df.drop(['Unnamed: 0'], axis=1)"
   ]
  },
  {
   "cell_type": "markdown",
   "id": "583bf606-796d-4918-8673-14147f9bed65",
   "metadata": {},
   "source": [
    "### Descriptive Statistics"
   ]
  },
  {
   "cell_type": "code",
   "execution_count": 17,
   "id": "9e393299-fe69-4a8a-8338-dcf10d9a193e",
   "metadata": {
    "tags": []
   },
   "outputs": [
    {
     "data": {
      "text/plain": "           longitude      latitude  housing_median_age   total_rooms  \\\ncount   16512.000000  16512.000000        16512.000000  16512.000000   \nunique           NaN           NaN                 NaN           NaN   \ntop              NaN           NaN                 NaN           NaN   \nfreq             NaN           NaN                 NaN           NaN   \nmean     -119.564046     35.626523           28.624516   2644.170603   \nstd         2.005033      2.139150           12.597980   2213.946369   \nmin      -124.350000     32.540000            1.000000      6.000000   \n25%      -121.790000     33.930000           18.000000   1446.000000   \n50%      -118.490000     34.250000           29.000000   2116.000000   \n75%      -118.010000     37.710000           37.000000   3154.000000   \nmax      -114.310000     41.950000           52.000000  39320.000000   \n\n        total_bedrooms    population    households  median_income  \\\ncount     16336.000000  16512.000000  16512.000000   16512.000000   \nunique             NaN           NaN           NaN            NaN   \ntop                NaN           NaN           NaN            NaN   \nfreq               NaN           NaN           NaN            NaN   \nmean        539.319540   1435.017260    501.135962       3.864091   \nstd         425.207704   1158.151967    385.650673       1.893244   \nmin           2.000000      3.000000      2.000000       0.499900   \n25%         296.000000    788.000000    280.000000       2.562500   \n50%         435.000000   1168.000000    410.000000       3.531300   \n75%         647.000000   1738.000000    606.000000       4.733225   \nmax        6445.000000  35682.000000   6082.000000      15.000100   \n\n        median_house_value ocean_proximity  \ncount         16512.000000           16512  \nunique                 NaN               5  \ntop                    NaN       <1H OCEAN  \nfreq                   NaN            7312  \nmean         206509.251453             NaN  \nstd          115225.957661             NaN  \nmin           14999.000000             NaN  \n25%          119400.000000             NaN  \n50%          179300.000000             NaN  \n75%          264500.000000             NaN  \nmax          500001.000000             NaN  ",
      "text/html": "<div>\n<style scoped>\n    .dataframe tbody tr th:only-of-type {\n        vertical-align: middle;\n    }\n\n    .dataframe tbody tr th {\n        vertical-align: top;\n    }\n\n    .dataframe thead th {\n        text-align: right;\n    }\n</style>\n<table border=\"1\" class=\"dataframe\">\n  <thead>\n    <tr style=\"text-align: right;\">\n      <th></th>\n      <th>longitude</th>\n      <th>latitude</th>\n      <th>housing_median_age</th>\n      <th>total_rooms</th>\n      <th>total_bedrooms</th>\n      <th>population</th>\n      <th>households</th>\n      <th>median_income</th>\n      <th>median_house_value</th>\n      <th>ocean_proximity</th>\n    </tr>\n  </thead>\n  <tbody>\n    <tr>\n      <th>count</th>\n      <td>16512.000000</td>\n      <td>16512.000000</td>\n      <td>16512.000000</td>\n      <td>16512.000000</td>\n      <td>16336.000000</td>\n      <td>16512.000000</td>\n      <td>16512.000000</td>\n      <td>16512.000000</td>\n      <td>16512.000000</td>\n      <td>16512</td>\n    </tr>\n    <tr>\n      <th>unique</th>\n      <td>NaN</td>\n      <td>NaN</td>\n      <td>NaN</td>\n      <td>NaN</td>\n      <td>NaN</td>\n      <td>NaN</td>\n      <td>NaN</td>\n      <td>NaN</td>\n      <td>NaN</td>\n      <td>5</td>\n    </tr>\n    <tr>\n      <th>top</th>\n      <td>NaN</td>\n      <td>NaN</td>\n      <td>NaN</td>\n      <td>NaN</td>\n      <td>NaN</td>\n      <td>NaN</td>\n      <td>NaN</td>\n      <td>NaN</td>\n      <td>NaN</td>\n      <td>&lt;1H OCEAN</td>\n    </tr>\n    <tr>\n      <th>freq</th>\n      <td>NaN</td>\n      <td>NaN</td>\n      <td>NaN</td>\n      <td>NaN</td>\n      <td>NaN</td>\n      <td>NaN</td>\n      <td>NaN</td>\n      <td>NaN</td>\n      <td>NaN</td>\n      <td>7312</td>\n    </tr>\n    <tr>\n      <th>mean</th>\n      <td>-119.564046</td>\n      <td>35.626523</td>\n      <td>28.624516</td>\n      <td>2644.170603</td>\n      <td>539.319540</td>\n      <td>1435.017260</td>\n      <td>501.135962</td>\n      <td>3.864091</td>\n      <td>206509.251453</td>\n      <td>NaN</td>\n    </tr>\n    <tr>\n      <th>std</th>\n      <td>2.005033</td>\n      <td>2.139150</td>\n      <td>12.597980</td>\n      <td>2213.946369</td>\n      <td>425.207704</td>\n      <td>1158.151967</td>\n      <td>385.650673</td>\n      <td>1.893244</td>\n      <td>115225.957661</td>\n      <td>NaN</td>\n    </tr>\n    <tr>\n      <th>min</th>\n      <td>-124.350000</td>\n      <td>32.540000</td>\n      <td>1.000000</td>\n      <td>6.000000</td>\n      <td>2.000000</td>\n      <td>3.000000</td>\n      <td>2.000000</td>\n      <td>0.499900</td>\n      <td>14999.000000</td>\n      <td>NaN</td>\n    </tr>\n    <tr>\n      <th>25%</th>\n      <td>-121.790000</td>\n      <td>33.930000</td>\n      <td>18.000000</td>\n      <td>1446.000000</td>\n      <td>296.000000</td>\n      <td>788.000000</td>\n      <td>280.000000</td>\n      <td>2.562500</td>\n      <td>119400.000000</td>\n      <td>NaN</td>\n    </tr>\n    <tr>\n      <th>50%</th>\n      <td>-118.490000</td>\n      <td>34.250000</td>\n      <td>29.000000</td>\n      <td>2116.000000</td>\n      <td>435.000000</td>\n      <td>1168.000000</td>\n      <td>410.000000</td>\n      <td>3.531300</td>\n      <td>179300.000000</td>\n      <td>NaN</td>\n    </tr>\n    <tr>\n      <th>75%</th>\n      <td>-118.010000</td>\n      <td>37.710000</td>\n      <td>37.000000</td>\n      <td>3154.000000</td>\n      <td>647.000000</td>\n      <td>1738.000000</td>\n      <td>606.000000</td>\n      <td>4.733225</td>\n      <td>264500.000000</td>\n      <td>NaN</td>\n    </tr>\n    <tr>\n      <th>max</th>\n      <td>-114.310000</td>\n      <td>41.950000</td>\n      <td>52.000000</td>\n      <td>39320.000000</td>\n      <td>6445.000000</td>\n      <td>35682.000000</td>\n      <td>6082.000000</td>\n      <td>15.000100</td>\n      <td>500001.000000</td>\n      <td>NaN</td>\n    </tr>\n  </tbody>\n</table>\n</div>"
     },
     "execution_count": 17,
     "metadata": {},
     "output_type": "execute_result"
    }
   ],
   "source": [
    "df_fltd.describe(include='all')"
   ]
  },
  {
   "cell_type": "code",
   "execution_count": 28,
   "outputs": [
    {
     "name": "stdout",
     "output_type": "stream",
     "text": [
      "<class 'pandas.core.frame.DataFrame'>\n",
      "RangeIndex: 16512 entries, 0 to 16511\n",
      "Data columns (total 10 columns):\n",
      " #   Column              Non-Null Count  Dtype  \n",
      "---  ------              --------------  -----  \n",
      " 0   longitude           16512 non-null  float64\n",
      " 1   latitude            16512 non-null  float64\n",
      " 2   housing_median_age  16512 non-null  float64\n",
      " 3   total_rooms         16512 non-null  float64\n",
      " 4   total_bedrooms      16512 non-null  float64\n",
      " 5   population          16512 non-null  float64\n",
      " 6   households          16512 non-null  float64\n",
      " 7   median_income       16512 non-null  float64\n",
      " 8   median_house_value  16512 non-null  float64\n",
      " 9   ocean_proximity     16512 non-null  object \n",
      "dtypes: float64(9), object(1)\n",
      "memory usage: 1.3+ MB\n"
     ]
    }
   ],
   "source": [
    "df_fltd.info()"
   ],
   "metadata": {
    "collapsed": false,
    "pycharm": {
     "name": "#%%\n"
    }
   }
  },
  {
   "cell_type": "markdown",
   "id": "b8e45856-ca0e-4e09-9050-b00dbb9e3cf9",
   "metadata": {},
   "source": [
    "### Missing value Interpolation"
   ]
  },
  {
   "cell_type": "code",
   "execution_count": 18,
   "id": "d3901288-7605-432d-86de-db3c0a735081",
   "metadata": {
    "tags": []
   },
   "outputs": [
    {
     "data": {
      "text/plain": "longitude               0\nlatitude                0\nhousing_median_age      0\ntotal_rooms             0\ntotal_bedrooms        176\npopulation              0\nhouseholds              0\nmedian_income           0\nmedian_house_value      0\nocean_proximity         0\ndtype: int64"
     },
     "execution_count": 18,
     "metadata": {},
     "output_type": "execute_result"
    }
   ],
   "source": [
    "df_fltd.isnull().sum()"
   ]
  },
  {
   "cell_type": "markdown",
   "id": "01ca5c18-c45b-446c-b758-862deb7682b4",
   "metadata": {},
   "source": [
    "We have 176 total_bedrooms feauture rows which are null, so we could either drop those rows with no such an impact since they represent only 1% of dataset's instances or replacing them by performing a linear interpolation."
   ]
  },
  {
   "cell_type": "markdown",
   "id": "96378454-f135-4bb7-824d-8db49fc2b0f5",
   "metadata": {},
   "source": [
    "In this case we'll try an interpolation."
   ]
  },
  {
   "cell_type": "code",
   "execution_count": 23,
   "outputs": [
    {
     "data": {
      "text/plain": "       longitude  latitude  housing_median_age  total_rooms  total_bedrooms  \\\n0        -119.84     36.77                 6.0       1853.0           473.0   \n1        -117.80     33.68                 8.0       2032.0           349.0   \n2        -120.19     36.60                25.0        875.0           214.0   \n3        -118.32     34.10                31.0        622.0           229.0   \n4        -121.23     37.79                21.0       1922.0           373.0   \n...          ...       ...                 ...          ...             ...   \n16507    -121.90     39.59                20.0       1465.0           278.0   \n16508    -122.25     38.11                49.0       2365.0           504.0   \n16509    -121.22     38.92                19.0       2531.0           461.0   \n16510    -118.14     34.16                39.0       2776.0           840.0   \n16511    -124.13     40.80                31.0       2152.0           462.0   \n\n       population  households  median_income  median_house_value  \\\n0          1397.0       417.0         1.4817             72000.0   \n1           862.0       340.0         6.9133            274100.0   \n2           931.0       214.0         1.5536             58300.0   \n3           597.0       227.0         1.5284            200000.0   \n4          1130.0       372.0         4.0815            117900.0   \n...           ...         ...            ...                 ...   \n16507       745.0       250.0         3.0625             93800.0   \n16508      1131.0       458.0         2.6133            103100.0   \n16509      1206.0       429.0         4.4958            192600.0   \n16510      2546.0       773.0         2.5750            153500.0   \n16511      1259.0       420.0         2.2478             81100.0   \n\n      ocean_proximity  \n0              INLAND  \n1           <1H OCEAN  \n2              INLAND  \n3           <1H OCEAN  \n4              INLAND  \n...               ...  \n16507          INLAND  \n16508        NEAR BAY  \n16509          INLAND  \n16510       <1H OCEAN  \n16511      NEAR OCEAN  \n\n[16512 rows x 10 columns]",
      "text/html": "<div>\n<style scoped>\n    .dataframe tbody tr th:only-of-type {\n        vertical-align: middle;\n    }\n\n    .dataframe tbody tr th {\n        vertical-align: top;\n    }\n\n    .dataframe thead th {\n        text-align: right;\n    }\n</style>\n<table border=\"1\" class=\"dataframe\">\n  <thead>\n    <tr style=\"text-align: right;\">\n      <th></th>\n      <th>longitude</th>\n      <th>latitude</th>\n      <th>housing_median_age</th>\n      <th>total_rooms</th>\n      <th>total_bedrooms</th>\n      <th>population</th>\n      <th>households</th>\n      <th>median_income</th>\n      <th>median_house_value</th>\n      <th>ocean_proximity</th>\n    </tr>\n  </thead>\n  <tbody>\n    <tr>\n      <th>0</th>\n      <td>-119.84</td>\n      <td>36.77</td>\n      <td>6.0</td>\n      <td>1853.0</td>\n      <td>473.0</td>\n      <td>1397.0</td>\n      <td>417.0</td>\n      <td>1.4817</td>\n      <td>72000.0</td>\n      <td>INLAND</td>\n    </tr>\n    <tr>\n      <th>1</th>\n      <td>-117.80</td>\n      <td>33.68</td>\n      <td>8.0</td>\n      <td>2032.0</td>\n      <td>349.0</td>\n      <td>862.0</td>\n      <td>340.0</td>\n      <td>6.9133</td>\n      <td>274100.0</td>\n      <td>&lt;1H OCEAN</td>\n    </tr>\n    <tr>\n      <th>2</th>\n      <td>-120.19</td>\n      <td>36.60</td>\n      <td>25.0</td>\n      <td>875.0</td>\n      <td>214.0</td>\n      <td>931.0</td>\n      <td>214.0</td>\n      <td>1.5536</td>\n      <td>58300.0</td>\n      <td>INLAND</td>\n    </tr>\n    <tr>\n      <th>3</th>\n      <td>-118.32</td>\n      <td>34.10</td>\n      <td>31.0</td>\n      <td>622.0</td>\n      <td>229.0</td>\n      <td>597.0</td>\n      <td>227.0</td>\n      <td>1.5284</td>\n      <td>200000.0</td>\n      <td>&lt;1H OCEAN</td>\n    </tr>\n    <tr>\n      <th>4</th>\n      <td>-121.23</td>\n      <td>37.79</td>\n      <td>21.0</td>\n      <td>1922.0</td>\n      <td>373.0</td>\n      <td>1130.0</td>\n      <td>372.0</td>\n      <td>4.0815</td>\n      <td>117900.0</td>\n      <td>INLAND</td>\n    </tr>\n    <tr>\n      <th>...</th>\n      <td>...</td>\n      <td>...</td>\n      <td>...</td>\n      <td>...</td>\n      <td>...</td>\n      <td>...</td>\n      <td>...</td>\n      <td>...</td>\n      <td>...</td>\n      <td>...</td>\n    </tr>\n    <tr>\n      <th>16507</th>\n      <td>-121.90</td>\n      <td>39.59</td>\n      <td>20.0</td>\n      <td>1465.0</td>\n      <td>278.0</td>\n      <td>745.0</td>\n      <td>250.0</td>\n      <td>3.0625</td>\n      <td>93800.0</td>\n      <td>INLAND</td>\n    </tr>\n    <tr>\n      <th>16508</th>\n      <td>-122.25</td>\n      <td>38.11</td>\n      <td>49.0</td>\n      <td>2365.0</td>\n      <td>504.0</td>\n      <td>1131.0</td>\n      <td>458.0</td>\n      <td>2.6133</td>\n      <td>103100.0</td>\n      <td>NEAR BAY</td>\n    </tr>\n    <tr>\n      <th>16509</th>\n      <td>-121.22</td>\n      <td>38.92</td>\n      <td>19.0</td>\n      <td>2531.0</td>\n      <td>461.0</td>\n      <td>1206.0</td>\n      <td>429.0</td>\n      <td>4.4958</td>\n      <td>192600.0</td>\n      <td>INLAND</td>\n    </tr>\n    <tr>\n      <th>16510</th>\n      <td>-118.14</td>\n      <td>34.16</td>\n      <td>39.0</td>\n      <td>2776.0</td>\n      <td>840.0</td>\n      <td>2546.0</td>\n      <td>773.0</td>\n      <td>2.5750</td>\n      <td>153500.0</td>\n      <td>&lt;1H OCEAN</td>\n    </tr>\n    <tr>\n      <th>16511</th>\n      <td>-124.13</td>\n      <td>40.80</td>\n      <td>31.0</td>\n      <td>2152.0</td>\n      <td>462.0</td>\n      <td>1259.0</td>\n      <td>420.0</td>\n      <td>2.2478</td>\n      <td>81100.0</td>\n      <td>NEAR OCEAN</td>\n    </tr>\n  </tbody>\n</table>\n<p>16512 rows × 10 columns</p>\n</div>"
     },
     "execution_count": 23,
     "metadata": {},
     "output_type": "execute_result"
    }
   ],
   "source": [
    "df_fltd= df_fltd.interpolate()\n",
    "df_fltd"
   ],
   "metadata": {
    "collapsed": false,
    "pycharm": {
     "name": "#%%\n"
    }
   }
  },
  {
   "cell_type": "code",
   "execution_count": 22,
   "id": "94b0ca8b-3417-48f6-835a-49b2c227e78b",
   "metadata": {
    "tags": []
   },
   "outputs": [
    {
     "data": {
      "text/plain": "longitude             0\nlatitude              0\nhousing_median_age    0\ntotal_rooms           0\ntotal_bedrooms        0\npopulation            0\nhouseholds            0\nmedian_income         0\nmedian_house_value    0\nocean_proximity       0\ndtype: int64"
     },
     "execution_count": 22,
     "metadata": {},
     "output_type": "execute_result"
    }
   ],
   "source": [
    "#checking if missing values column rows have been dropped\n",
    "df_fltd.isnull().sum()"
   ]
  },
  {
   "cell_type": "markdown",
   "source": [
    "### Data Distribution"
   ],
   "metadata": {
    "collapsed": false,
    "pycharm": {
     "name": "#%% md\n"
    }
   }
  },
  {
   "cell_type": "code",
   "execution_count": 30,
   "outputs": [
    {
     "ename": "AttributeError",
     "evalue": "'str' object has no attribute 'skew'",
     "output_type": "error",
     "traceback": [
      "\u001B[1;31m---------------------------------------------------------------------------\u001B[0m",
      "\u001B[1;31mAttributeError\u001B[0m                            Traceback (most recent call last)",
      "\u001B[1;32m<ipython-input-30-f88067681bdf>\u001B[0m in \u001B[0;36m<module>\u001B[1;34m\u001B[0m\n\u001B[0;32m      1\u001B[0m \u001B[1;31m#Is the data skewed to one side?\u001B[0m\u001B[1;33m\u001B[0m\u001B[1;33m\u001B[0m\u001B[1;33m\u001B[0m\u001B[0m\n\u001B[0;32m      2\u001B[0m \u001B[1;32mfor\u001B[0m \u001B[0mi\u001B[0m \u001B[1;32min\u001B[0m \u001B[0mdf_fltd\u001B[0m\u001B[1;33m.\u001B[0m\u001B[0mcolumns\u001B[0m\u001B[1;33m:\u001B[0m\u001B[1;33m\u001B[0m\u001B[1;33m\u001B[0m\u001B[0m\n\u001B[1;32m----> 3\u001B[1;33m     \u001B[0mi\u001B[0m\u001B[1;33m.\u001B[0m\u001B[0mskew\u001B[0m\u001B[1;33m(\u001B[0m\u001B[1;33m)\u001B[0m\u001B[1;33m\u001B[0m\u001B[1;33m\u001B[0m\u001B[0m\n\u001B[0m",
      "\u001B[1;31mAttributeError\u001B[0m: 'str' object has no attribute 'skew'"
     ]
    }
   ],
   "source": [
    "#Is the data skewed to one side?\n",
    "for i in df_fltd.columns:\n",
    "    i.skew()"
   ],
   "metadata": {
    "collapsed": false,
    "pycharm": {
     "name": "#%%\n"
    }
   }
  },
  {
   "cell_type": "code",
   "execution_count": null,
   "outputs": [],
   "source": [],
   "metadata": {
    "collapsed": false,
    "pycharm": {
     "name": "#%%\n"
    }
   }
  },
  {
   "cell_type": "code",
   "execution_count": null,
   "outputs": [],
   "source": [],
   "metadata": {
    "collapsed": false,
    "pycharm": {
     "name": "#%%\n"
    }
   }
  },
  {
   "cell_type": "code",
   "execution_count": null,
   "outputs": [],
   "source": [],
   "metadata": {
    "collapsed": false,
    "pycharm": {
     "name": "#%%\n"
    }
   }
  },
  {
   "cell_type": "markdown",
   "source": [
    "### Outlier/s treatment"
   ],
   "metadata": {
    "collapsed": false,
    "pycharm": {
     "name": "#%% md\n"
    }
   }
  },
  {
   "cell_type": "markdown",
   "source": [
    "#### Box Plot"
   ],
   "metadata": {
    "collapsed": false,
    "pycharm": {
     "name": "#%% md\n"
    }
   }
  },
  {
   "cell_type": "code",
   "execution_count": 24,
   "outputs": [
    {
     "data": {
      "text/plain": "<AxesSubplot:>"
     },
     "execution_count": 24,
     "metadata": {},
     "output_type": "execute_result"
    },
    {
     "data": {
      "text/plain": "<Figure size 1008x504 with 1 Axes>",
      "image/png": "[encoded data removed]"
     },
     "metadata": {
      "needs_background": "light"
     },
     "output_type": "display_data"
    }
   ],
   "source": [
    "df_fltd.iloc[:, 2:8].boxplot(figsize=(14,7))"
   ],
   "metadata": {
    "collapsed": false,
    "pycharm": {
     "name": "#%%\n"
    }
   }
  },
  {
   "cell_type": "markdown",
   "source": [
    "#### Z Score method"
   ],
   "metadata": {
    "collapsed": false,
    "pycharm": {
     "name": "#%% md\n"
    }
   }
  },
  {
   "cell_type": "code",
   "execution_count": 27,
   "outputs": [
    {
     "data": {
      "text/plain": "array([0.35736844, 0.27651489, 0.79912694, ..., 0.05111869, 0.05954679,\n       0.2223114 ])"
     },
     "execution_count": 27,
     "metadata": {},
     "output_type": "execute_result"
    }
   ],
   "source": [
    "#If the z score of a data point is more than 3, it indicates that the data point is quite different from the other data points.\n",
    "#Such data instances could be an outlier\n",
    "\n"
   ],
   "metadata": {
    "collapsed": false,
    "pycharm": {
     "name": "#%%\n"
    }
   }
  },
  {
   "cell_type": "code",
   "execution_count": null,
   "outputs": [],
   "source": [],
   "metadata": {
    "collapsed": false,
    "pycharm": {
     "name": "#%%\n"
    }
   }
  },
  {
   "cell_type": "code",
   "execution_count": null,
   "outputs": [],
   "source": [],
   "metadata": {
    "collapsed": false,
    "pycharm": {
     "name": "#%%\n"
    }
   }
  },
  {
   "cell_type": "code",
   "execution_count": null,
   "outputs": [],
   "source": [],
   "metadata": {
    "collapsed": false,
    "pycharm": {
     "name": "#%%\n"
    }
   }
  },
  {
   "cell_type": "code",
   "execution_count": null,
   "outputs": [],
   "source": [],
   "metadata": {
    "collapsed": false,
    "pycharm": {
     "name": "#%%\n"
    }
   }
  },
  {
   "cell_type": "markdown",
   "id": "f3f5dfd1-8956-43f5-8333-c9a62741f982",
   "metadata": {
    "tags": []
   },
   "source": [
    "### End Notes"
   ]
  },
  {
   "cell_type": "code",
   "execution_count": null,
   "id": "d48e6e1c-7bab-4a87-bc68-1f7b45418fa6",
   "metadata": {},
   "outputs": [],
   "source": []
  }
 ],
 "metadata": {
  "kernelspec": {
   "display_name": "Python 3 (ipykernel)",
   "language": "python",
   "name": "python3"
  },
  "language_info": {
   "codemirror_mode": {
    "name": "ipython",
    "version": 3
   },
   "file_extension": ".py",
   "mimetype": "text/x-python",
   "name": "python",
   "nbconvert_exporter": "python",
   "pygments_lexer": "ipython3",
   "version": "3.9.7"
  },
  "toc-autonumbering": false,
  "toc-showcode": false,
  "toc-showmarkdowntxt": false
 },
 "nbformat": 4,
 "nbformat_minor": 5
}