{
 "cells": [
  {
   "cell_type": "markdown",
   "id": "a030d059",
   "metadata": {
    "pycharm": {
     "name": "#%% md\n"
    }
   },
   "source": [
    "# Table of Contents\n",
    "\n",
    "* [Introduction](#Introduction)\n",
    "* [Importing Dataset](#Import)\n",
    "* [Data set changes](#df_changes)\n",
    "* [Importing model](#model_import)\n",
    "* [Model Exectution](#model_perform)"
   ]
  },
  {
   "cell_type": "markdown",
   "source": [
    "## Introduction\n",
    "\n",
    "This is a guide to impute the model with a raw dataset."
   ],
   "metadata": {
    "collapsed": false,
    "pycharm": {
     "name": "#%% md\n"
    }
   }
  },
  {
   "cell_type": "markdown",
   "source": [
    "### Importing data set"
   ],
   "metadata": {
    "collapsed": false,
    "pycharm": {
     "name": "#%% md\n"
    }
   }
  },
  {
   "cell_type": "code",
   "execution_count": 15,
   "outputs": [],
   "source": [
    "# Import needed libraries\n",
    "import numpy as np\n",
    "import pandas as pd\n",
    "import matplotlib.pyplot as plt\n",
    "import seaborn as sns\n",
    "\n",
    "# package to import model\n",
    "import pickle\n",
    "\n",
    "from sklearn.preprocessing import StandardScaler, MinMaxScaler\n",
    "from sklearn.model_selection import train_test_split"
   ],
   "metadata": {
    "collapsed": false,
    "pycharm": {
     "name": "#%%\n"
    }
   }
  },
  {
   "cell_type": "markdown",
   "source": [
    "## Importing dataset"
   ],
   "metadata": {
    "collapsed": false,
    "pycharm": {
     "name": "#%% md\n"
    }
   }
  },
  {
   "cell_type": "code",
   "execution_count": 16,
   "outputs": [],
   "source": [
    "import pandas as pd\n",
    "\n",
    "df = pd.read_csv('../data/data_raw.csv')"
   ],
   "metadata": {
    "collapsed": false,
    "pycharm": {
     "name": "#%%\n"
    }
   }
  },
  {
   "cell_type": "markdown",
   "source": [
    "## Data set changes"
   ],
   "metadata": {
    "collapsed": false,
    "pycharm": {
     "name": "#%% md\n"
    }
   }
  },
  {
   "cell_type": "code",
   "execution_count": 17,
   "outputs": [],
   "source": [
    "def df_cleaning(df):\n",
    "\n",
    "    #converting median_income to a dollar unit instead of a ten thousand dollar unit\n",
    "    ten_thousand_dollar_unit= 10000\n",
    "    df.median_income= df.median_income * ten_thousand_dollar_unit\n",
    "\n",
    "    # interpolate missing values\n",
    "    df= df.interpolate()\n",
    "\n",
    "    # dropping categorical ocean_proximity and geospatial features for outliers treatment\n",
    "    X = df.drop(['longitude', 'latitude', 'ocean_proximity'], axis=1)\n",
    "\n",
    "    # Computing 10th, 90th percentiles for each feature\n",
    "    for col in X.columns:\n",
    "        percentiles = X[col].quantile([0.10, 0.90]).values\n",
    "        X[col] = np.clip(X[col], percentiles[0], percentiles[1])\n",
    "\n",
    "    # Including dropped features for dataset extraction\n",
    "    df = X.join(df[['longitude', 'latitude', 'ocean_proximity']])\n",
    "\n",
    "    # encoding\n",
    "    # Using get_dummies() pandas method to return a dataframe with ocean_proximity instances as dummy variables.\n",
    "    dummy_ocn_prx = pd.get_dummies(df.ocean_proximity)\n",
    "\n",
    "    # dropping unneeded ocean_proximity raw feature\n",
    "    df = df.drop(['ocean_proximity'], axis=1)\n",
    "\n",
    "    # merging encoded feature instances into the scaled dataframe\n",
    "    df = pd.merge(\n",
    "    left=df,\n",
    "    right=dummy_ocn_prx,\n",
    "    left_index=True,\n",
    "    right_index=True,\n",
    "    )\n",
    "\n",
    "    # Scaling\n",
    "    X = df.drop(['median_house_value', '<1H OCEAN', 'INLAND', 'ISLAND', 'NEAR BAY', 'NEAR OCEAN'], axis=1)\n",
    "\n",
    "    X_scaled = pd.DataFrame(StandardScaler().fit_transform(X),columns = X.columns)\n",
    "\n",
    "    # merging encoded feature instances into the scaled dataframe\n",
    "    X_scaled = pd.merge(\n",
    "        left=X_scaled,\n",
    "        right=dummy_ocn_prx,\n",
    "        left_index=True,\n",
    "        right_index=True,\n",
    "    )\n",
    "\n",
    "    # reinserting target feature into scaled dataset\n",
    "    X_scaled = pd.merge(\n",
    "        left=X_scaled,\n",
    "        right=df.median_house_value,\n",
    "        left_index=True,\n",
    "        right_index=True,\n",
    "    )\n",
    "\n",
    "    return X_scaled"
   ],
   "metadata": {
    "collapsed": false,
    "pycharm": {
     "name": "#%%\n"
    }
   }
  },
  {
   "cell_type": "markdown",
   "source": [
    "## Importing model"
   ],
   "metadata": {
    "collapsed": false,
    "pycharm": {
     "name": "#%% md\n"
    }
   }
  },
  {
   "cell_type": "markdown",
   "source": [
    "### Hold-out split"
   ],
   "metadata": {
    "collapsed": false,
    "pycharm": {
     "name": "#%% md\n"
    }
   }
  },
  {
   "cell_type": "code",
   "execution_count": 18,
   "outputs": [],
   "source": [
    "# define X, y\n",
    "X = df_cleaning(df).drop(\"median_house_value\", axis=1)\n",
    "y = df_cleaning(df)[\"median_house_value\"]\n",
    "\n",
    "# Splitting data set\n",
    "X_train, X_test, y_train, y_test = train_test_split(X, y, test_size=0.33, random_state=42)"
   ],
   "metadata": {
    "collapsed": false,
    "pycharm": {
     "name": "#%%\n"
    }
   }
  },
  {
   "cell_type": "markdown",
   "source": [
    "## Model Execution"
   ],
   "metadata": {
    "collapsed": false,
    "pycharm": {
     "name": "#%% md\n"
    }
   }
  },
  {
   "cell_type": "markdown",
   "source": [
    "### Instantiate model score"
   ],
   "metadata": {
    "collapsed": false,
    "pycharm": {
     "name": "#%% md\n"
    }
   }
  },
  {
   "cell_type": "code",
   "execution_count": null,
   "outputs": [],
   "source": [
    "model = pickle.load(open('../pickle/model_pickle.pkl','rb'))\n",
    "model.score(X_test, y_test)"
   ],
   "metadata": {
    "collapsed": false,
    "pycharm": {
     "name": "#%%\n"
    }
   }
  },
  {
   "cell_type": "markdown",
   "source": [
    "----------------"
   ],
   "metadata": {
    "collapsed": false,
    "pycharm": {
     "name": "#%% md\n"
    }
   }
  }
 ],
 "metadata": {
  "kernelspec": {
   "display_name": "Python 3 (ipykernel)",
   "language": "python",
   "name": "python3"
  },
  "language_info": {
   "codemirror_mode": {
    "name": "ipython",
    "version": 3
   },
   "file_extension": ".py",
   "mimetype": "text/x-python",
   "name": "python",
   "nbconvert_exporter": "python",
   "pygments_lexer": "ipython3",
   "version": "3.9.7"
  }
 },
 "nbformat": 4,
 "nbformat_minor": 5
}