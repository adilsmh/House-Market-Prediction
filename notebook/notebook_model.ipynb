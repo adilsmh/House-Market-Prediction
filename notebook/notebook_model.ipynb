{
 "cells": [
  {
   "cell_type": "markdown",
   "source": [
    "# Table of Contents\n",
    "\n",
    "* [Introduction](#Introduction)\n",
    "* [Meta-data](#Meta_data)\n",
    "* [Data Reading](#Data_reading)\n",
    "* [ML Modeling](#ML_modeling)\n",
    "    * []\n",
    "    * []\n",
    "    * []\n",
    "    * []\n",
    "    * []\n",
    "    * []\n",
    "    * []"
   ],
   "metadata": {
    "collapsed": false,
    "pycharm": {
     "name": "#%% md\n"
    }
   }
  },
  {
   "cell_type": "markdown",
   "source": [
    "## Introduction"
   ],
   "metadata": {
    "collapsed": false,
    "pycharm": {
     "name": "#%% md\n"
    }
   }
  },
  {
   "cell_type": "markdown",
   "source": [
    "Vous êtes développeur AI dans une startup de la Silicon Valley qui fournit des services dans le domaine de l'investissement immobilier.\n",
    "Les chargés de relation client ont mentionné que la demande a augmenté récemment et qu'il devient difficile de faire des estimations personnalisées.\n",
    "De ce fait, l'entreprise vous a confier d'automatiser cette tâche avec un modèle prédictif.\n",
    "Pour cela, vous avez récupéré une base de données qui contient les prix médians des logements pour les districts de Californie issus du recensement de 1990"
   ],
   "metadata": {
    "collapsed": false,
    "pycharm": {
     "name": "#%% md\n"
    }
   }
  },
  {
   "cell_type": "markdown",
   "source": [
    "## Meta data"
   ],
   "metadata": {
    "collapsed": false,
    "pycharm": {
     "name": "#%% md\n"
    }
   }
  },
  {
   "cell_type": "markdown",
   "source": [
    "`longitude`\n",
    "`latitude`\n",
    "`housingMedianAge` | Âge médian d'une maison dans un pâté de maisons ; un chiffre plus bas correspond à un bâtiment plus récent.\n",
    "`totalRooms` | Nombre total de chambres dans un bloc\n",
    "`totalBedrooms` |  Nombre total de chambres de lit dans un bloc\n",
    "`population` Nombre total de personnes résidant dans un bloc\n",
    "`households`| Nombre total de ménages, c'est-à-dire un groupe de personnes résidant dans une unité d'habitation, pour un bloc\n",
    "`medianIncome` | Revenu médian des ménages dans un bloc de maisons (mesuré en dizaines de milliers de dollars US)\n",
    "`medianHouseValue` | Valeur médiane des maisons pour les ménages d'un bloc (mesurée en dollars US)\n",
    "`oceanProximity` | Situation de la maison par rapport à la mer"
   ],
   "metadata": {
    "collapsed": false,
    "pycharm": {
     "name": "#%% md\n"
    }
   }
  },
  {
   "cell_type": "markdown",
   "source": [
    "## Importing Libraries"
   ],
   "metadata": {
    "collapsed": false,
    "pycharm": {
     "name": "#%% md\n"
    }
   }
  },
  {
   "cell_type": "code",
   "execution_count": 62,
   "outputs": [],
   "source": [
    "# Import needed libraries\n",
    "import numpy as np\n",
    "import pandas as pd\n",
    "import matplotlib.pyplot as plt\n",
    "import seaborn as sns\n",
    "\n",
    "from sklearn.decomposition import PCA\n",
    "from sklearn.preprocessing import StandardScaler, MinMaxScaler\n",
    "\n",
    "from sklearn.model_selection import train_test_split\n",
    "from sklearn.linear_model import LinearRegression\n",
    "\n",
    "#from sklearn.metrics import\n",
    "#from sklearn.metrics import roc_auc_score, plot_roc_curve, roc_curve\n",
    "#from sklearn.metrics import average_precision_score\n",
    "#from sklearn.metrics import precision_recall_curve,plot_precision_recall_curve\n",
    "\n",
    "#from sklearn.model_selection import learning_curve\n",
    "\n",
    "#from statsmodels.stats.outliers_influence import variance_inflation_factor as vif\n",
    "\n",
    "#from sklearn.inspection import permutation_importance\n",
    "#import warnings\n",
    "#warnings.simplefilter(action=\"ignore\")"
   ],
   "metadata": {
    "collapsed": false,
    "pycharm": {
     "name": "#%%\n"
    }
   }
  },
  {
   "cell_type": "markdown",
   "source": [
    "## Data Reading"
   ],
   "metadata": {
    "collapsed": false,
    "pycharm": {
     "name": "#%% md\n"
    }
   }
  },
  {
   "cell_type": "markdown",
   "source": [
    "### Reading data"
   ],
   "metadata": {
    "collapsed": false,
    "pycharm": {
     "name": "#%% md\n"
    }
   }
  },
  {
   "cell_type": "code",
   "execution_count": 33,
   "outputs": [
    {
     "data": {
      "text/plain": "       longitude  latitude  housing_median_age  total_rooms  total_bedrooms  \\\n0        -119.84     36.77                 6.0       1853.0           473.0   \n1        -117.80     33.68                 8.0       2032.0           349.0   \n2        -120.19     36.60                25.0        875.0           214.0   \n3        -118.32     34.10                31.0        622.0           229.0   \n4        -121.23     37.79                21.0       1922.0           373.0   \n...          ...       ...                 ...          ...             ...   \n16507    -121.90     39.59                20.0       1465.0           278.0   \n16508    -122.25     38.11                49.0       2365.0           504.0   \n16509    -121.22     38.92                19.0       2531.0           461.0   \n16510    -118.14     34.16                39.0       2776.0           840.0   \n16511    -124.13     40.80                31.0       2152.0           462.0   \n\n       population  households  median_income  median_house_value  \\\n0          1397.0       417.0        14817.0             72000.0   \n1           862.0       340.0        69133.0            274100.0   \n2           931.0       214.0        15536.0             58300.0   \n3           597.0       227.0        15284.0            200000.0   \n4          1130.0       372.0        40815.0            117900.0   \n...           ...         ...            ...                 ...   \n16507       745.0       250.0        30625.0             93800.0   \n16508      1131.0       458.0        26133.0            103100.0   \n16509      1206.0       429.0        44958.0            192600.0   \n16510      2546.0       773.0        25750.0            153500.0   \n16511      1259.0       420.0        22478.0             81100.0   \n\n      ocean_proximity  \n0              INLAND  \n1           <1H OCEAN  \n2              INLAND  \n3           <1H OCEAN  \n4              INLAND  \n...               ...  \n16507          INLAND  \n16508        NEAR BAY  \n16509          INLAND  \n16510       <1H OCEAN  \n16511      NEAR OCEAN  \n\n[16512 rows x 10 columns]",
      "text/html": "<div>\n<style scoped>\n    .dataframe tbody tr th:only-of-type {\n        vertical-align: middle;\n    }\n\n    .dataframe tbody tr th {\n        vertical-align: top;\n    }\n\n    .dataframe thead th {\n        text-align: right;\n    }\n</style>\n<table border=\"1\" class=\"dataframe\">\n  <thead>\n    <tr style=\"text-align: right;\">\n      <th></th>\n      <th>longitude</th>\n      <th>latitude</th>\n      <th>housing_median_age</th>\n      <th>total_rooms</th>\n      <th>total_bedrooms</th>\n      <th>population</th>\n      <th>households</th>\n      <th>median_income</th>\n      <th>median_house_value</th>\n      <th>ocean_proximity</th>\n    </tr>\n  </thead>\n  <tbody>\n    <tr>\n      <th>0</th>\n      <td>-119.84</td>\n      <td>36.77</td>\n      <td>6.0</td>\n      <td>1853.0</td>\n      <td>473.0</td>\n      <td>1397.0</td>\n      <td>417.0</td>\n      <td>14817.0</td>\n      <td>72000.0</td>\n      <td>INLAND</td>\n    </tr>\n    <tr>\n      <th>1</th>\n      <td>-117.80</td>\n      <td>33.68</td>\n      <td>8.0</td>\n      <td>2032.0</td>\n      <td>349.0</td>\n      <td>862.0</td>\n      <td>340.0</td>\n      <td>69133.0</td>\n      <td>274100.0</td>\n      <td>&lt;1H OCEAN</td>\n    </tr>\n    <tr>\n      <th>2</th>\n      <td>-120.19</td>\n      <td>36.60</td>\n      <td>25.0</td>\n      <td>875.0</td>\n      <td>214.0</td>\n      <td>931.0</td>\n      <td>214.0</td>\n      <td>15536.0</td>\n      <td>58300.0</td>\n      <td>INLAND</td>\n    </tr>\n    <tr>\n      <th>3</th>\n      <td>-118.32</td>\n      <td>34.10</td>\n      <td>31.0</td>\n      <td>622.0</td>\n      <td>229.0</td>\n      <td>597.0</td>\n      <td>227.0</td>\n      <td>15284.0</td>\n      <td>200000.0</td>\n      <td>&lt;1H OCEAN</td>\n    </tr>\n    <tr>\n      <th>4</th>\n      <td>-121.23</td>\n      <td>37.79</td>\n      <td>21.0</td>\n      <td>1922.0</td>\n      <td>373.0</td>\n      <td>1130.0</td>\n      <td>372.0</td>\n      <td>40815.0</td>\n      <td>117900.0</td>\n      <td>INLAND</td>\n    </tr>\n    <tr>\n      <th>...</th>\n      <td>...</td>\n      <td>...</td>\n      <td>...</td>\n      <td>...</td>\n      <td>...</td>\n      <td>...</td>\n      <td>...</td>\n      <td>...</td>\n      <td>...</td>\n      <td>...</td>\n    </tr>\n    <tr>\n      <th>16507</th>\n      <td>-121.90</td>\n      <td>39.59</td>\n      <td>20.0</td>\n      <td>1465.0</td>\n      <td>278.0</td>\n      <td>745.0</td>\n      <td>250.0</td>\n      <td>30625.0</td>\n      <td>93800.0</td>\n      <td>INLAND</td>\n    </tr>\n    <tr>\n      <th>16508</th>\n      <td>-122.25</td>\n      <td>38.11</td>\n      <td>49.0</td>\n      <td>2365.0</td>\n      <td>504.0</td>\n      <td>1131.0</td>\n      <td>458.0</td>\n      <td>26133.0</td>\n      <td>103100.0</td>\n      <td>NEAR BAY</td>\n    </tr>\n    <tr>\n      <th>16509</th>\n      <td>-121.22</td>\n      <td>38.92</td>\n      <td>19.0</td>\n      <td>2531.0</td>\n      <td>461.0</td>\n      <td>1206.0</td>\n      <td>429.0</td>\n      <td>44958.0</td>\n      <td>192600.0</td>\n      <td>INLAND</td>\n    </tr>\n    <tr>\n      <th>16510</th>\n      <td>-118.14</td>\n      <td>34.16</td>\n      <td>39.0</td>\n      <td>2776.0</td>\n      <td>840.0</td>\n      <td>2546.0</td>\n      <td>773.0</td>\n      <td>25750.0</td>\n      <td>153500.0</td>\n      <td>&lt;1H OCEAN</td>\n    </tr>\n    <tr>\n      <th>16511</th>\n      <td>-124.13</td>\n      <td>40.80</td>\n      <td>31.0</td>\n      <td>2152.0</td>\n      <td>462.0</td>\n      <td>1259.0</td>\n      <td>420.0</td>\n      <td>22478.0</td>\n      <td>81100.0</td>\n      <td>NEAR OCEAN</td>\n    </tr>\n  </tbody>\n</table>\n<p>16512 rows × 10 columns</p>\n</div>"
     },
     "execution_count": 33,
     "metadata": {},
     "output_type": "execute_result"
    }
   ],
   "source": [
    "# importing cleaned dataset w/out missing values, duplicates and capped outliers to 10th and  90th percentiles\n",
    "df = pd.read_csv(r'../data/data_cleaned.csv')\n",
    "df"
   ],
   "metadata": {
    "collapsed": false,
    "pycharm": {
     "name": "#%%\n"
    }
   }
  },
  {
   "cell_type": "markdown",
   "source": [
    "## Feature Engineering"
   ],
   "metadata": {
    "collapsed": false,
    "pycharm": {
     "name": "#%% md\n"
    }
   }
  },
  {
   "cell_type": "markdown",
   "source": [
    "### Encoding"
   ],
   "metadata": {
    "collapsed": false,
    "pycharm": {
     "name": "#%% md\n"
    }
   }
  },
  {
   "cell_type": "markdown",
   "source": [
    "We'll need to use either one-hot or dummy feature encoding methods since if we categorize 'ocean_proximity' feature with an ordinal encoding, it'll cause an increase of feature's weight, affecting model's predictivity performance, giving a 'preference' to some instance (individuals) which have been feature labeled with highest 'class' category."
   ],
   "metadata": {
    "collapsed": false,
    "pycharm": {
     "name": "#%% md\n"
    }
   }
  },
  {
   "cell_type": "markdown",
   "source": [
    "We'll use then dummy feature encoding"
   ],
   "metadata": {
    "collapsed": false,
    "pycharm": {
     "name": "#%% md\n"
    }
   }
  },
  {
   "cell_type": "code",
   "execution_count": 20,
   "outputs": [
    {
     "name": "stdout",
     "output_type": "stream",
     "text": [
      "       <1H OCEAN  INLAND  ISLAND  NEAR BAY  NEAR OCEAN\n",
      "0              0       1       0         0           0\n",
      "1              1       0       0         0           0\n",
      "2              0       1       0         0           0\n",
      "3              1       0       0         0           0\n",
      "4              0       1       0         0           0\n",
      "...          ...     ...     ...       ...         ...\n",
      "16507          0       1       0         0           0\n",
      "16508          0       0       0         1           0\n",
      "16509          0       1       0         0           0\n",
      "16510          1       0       0         0           0\n",
      "16511          0       0       0         0           1\n",
      "\n",
      "[16512 rows x 5 columns]\n"
     ]
    }
   ],
   "source": [
    "# Using get_dummies() pandas method to return a dataframe with ocean_proximity instances as dummy variables.\n",
    "dummy_ocn_prx = pd.get_dummies(df.ocean_proximity)\n",
    "print(dummy_ocn_prx)"
   ],
   "metadata": {
    "collapsed": false,
    "pycharm": {
     "name": "#%%\n"
    }
   }
  },
  {
   "cell_type": "code",
   "execution_count": 21,
   "outputs": [
    {
     "data": {
      "text/plain": "       longitude  latitude  housing_median_age  total_rooms  total_bedrooms  \\\n0        -119.84     36.77                 6.0       1853.0           473.0   \n1        -117.80     33.68                 8.0       2032.0           349.0   \n2        -120.19     36.60                25.0        875.0           214.0   \n3        -118.32     34.10                31.0        622.0           229.0   \n4        -121.23     37.79                21.0       1922.0           373.0   \n...          ...       ...                 ...          ...             ...   \n16507    -121.90     39.59                20.0       1465.0           278.0   \n16508    -122.25     38.11                49.0       2365.0           504.0   \n16509    -121.22     38.92                19.0       2531.0           461.0   \n16510    -118.14     34.16                39.0       2776.0           840.0   \n16511    -124.13     40.80                31.0       2152.0           462.0   \n\n       population  households  median_income  median_house_value  <1H OCEAN  \\\n0          1397.0       417.0        14817.0             72000.0          0   \n1           862.0       340.0        69133.0            274100.0          1   \n2           931.0       214.0        15536.0             58300.0          0   \n3           597.0       227.0        15284.0            200000.0          1   \n4          1130.0       372.0        40815.0            117900.0          0   \n...           ...         ...            ...                 ...        ...   \n16507       745.0       250.0        30625.0             93800.0          0   \n16508      1131.0       458.0        26133.0            103100.0          0   \n16509      1206.0       429.0        44958.0            192600.0          0   \n16510      2546.0       773.0        25750.0            153500.0          1   \n16511      1259.0       420.0        22478.0             81100.0          0   \n\n       INLAND  ISLAND  NEAR BAY  NEAR OCEAN  \n0           1       0         0           0  \n1           0       0         0           0  \n2           1       0         0           0  \n3           0       0         0           0  \n4           1       0         0           0  \n...       ...     ...       ...         ...  \n16507       1       0         0           0  \n16508       0       0         1           0  \n16509       1       0         0           0  \n16510       0       0         0           0  \n16511       0       0         0           1  \n\n[16512 rows x 14 columns]",
      "text/html": "<div>\n<style scoped>\n    .dataframe tbody tr th:only-of-type {\n        vertical-align: middle;\n    }\n\n    .dataframe tbody tr th {\n        vertical-align: top;\n    }\n\n    .dataframe thead th {\n        text-align: right;\n    }\n</style>\n<table border=\"1\" class=\"dataframe\">\n  <thead>\n    <tr style=\"text-align: right;\">\n      <th></th>\n      <th>longitude</th>\n      <th>latitude</th>\n      <th>housing_median_age</th>\n      <th>total_rooms</th>\n      <th>total_bedrooms</th>\n      <th>population</th>\n      <th>households</th>\n      <th>median_income</th>\n      <th>median_house_value</th>\n      <th>&lt;1H OCEAN</th>\n      <th>INLAND</th>\n      <th>ISLAND</th>\n      <th>NEAR BAY</th>\n      <th>NEAR OCEAN</th>\n    </tr>\n  </thead>\n  <tbody>\n    <tr>\n      <th>0</th>\n      <td>-119.84</td>\n      <td>36.77</td>\n      <td>6.0</td>\n      <td>1853.0</td>\n      <td>473.0</td>\n      <td>1397.0</td>\n      <td>417.0</td>\n      <td>14817.0</td>\n      <td>72000.0</td>\n      <td>0</td>\n      <td>1</td>\n      <td>0</td>\n      <td>0</td>\n      <td>0</td>\n    </tr>\n    <tr>\n      <th>1</th>\n      <td>-117.80</td>\n      <td>33.68</td>\n      <td>8.0</td>\n      <td>2032.0</td>\n      <td>349.0</td>\n      <td>862.0</td>\n      <td>340.0</td>\n      <td>69133.0</td>\n      <td>274100.0</td>\n      <td>1</td>\n      <td>0</td>\n      <td>0</td>\n      <td>0</td>\n      <td>0</td>\n    </tr>\n    <tr>\n      <th>2</th>\n      <td>-120.19</td>\n      <td>36.60</td>\n      <td>25.0</td>\n      <td>875.0</td>\n      <td>214.0</td>\n      <td>931.0</td>\n      <td>214.0</td>\n      <td>15536.0</td>\n      <td>58300.0</td>\n      <td>0</td>\n      <td>1</td>\n      <td>0</td>\n      <td>0</td>\n      <td>0</td>\n    </tr>\n    <tr>\n      <th>3</th>\n      <td>-118.32</td>\n      <td>34.10</td>\n      <td>31.0</td>\n      <td>622.0</td>\n      <td>229.0</td>\n      <td>597.0</td>\n      <td>227.0</td>\n      <td>15284.0</td>\n      <td>200000.0</td>\n      <td>1</td>\n      <td>0</td>\n      <td>0</td>\n      <td>0</td>\n      <td>0</td>\n    </tr>\n    <tr>\n      <th>4</th>\n      <td>-121.23</td>\n      <td>37.79</td>\n      <td>21.0</td>\n      <td>1922.0</td>\n      <td>373.0</td>\n      <td>1130.0</td>\n      <td>372.0</td>\n      <td>40815.0</td>\n      <td>117900.0</td>\n      <td>0</td>\n      <td>1</td>\n      <td>0</td>\n      <td>0</td>\n      <td>0</td>\n    </tr>\n    <tr>\n      <th>...</th>\n      <td>...</td>\n      <td>...</td>\n      <td>...</td>\n      <td>...</td>\n      <td>...</td>\n      <td>...</td>\n      <td>...</td>\n      <td>...</td>\n      <td>...</td>\n      <td>...</td>\n      <td>...</td>\n      <td>...</td>\n      <td>...</td>\n      <td>...</td>\n    </tr>\n    <tr>\n      <th>16507</th>\n      <td>-121.90</td>\n      <td>39.59</td>\n      <td>20.0</td>\n      <td>1465.0</td>\n      <td>278.0</td>\n      <td>745.0</td>\n      <td>250.0</td>\n      <td>30625.0</td>\n      <td>93800.0</td>\n      <td>0</td>\n      <td>1</td>\n      <td>0</td>\n      <td>0</td>\n      <td>0</td>\n    </tr>\n    <tr>\n      <th>16508</th>\n      <td>-122.25</td>\n      <td>38.11</td>\n      <td>49.0</td>\n      <td>2365.0</td>\n      <td>504.0</td>\n      <td>1131.0</td>\n      <td>458.0</td>\n      <td>26133.0</td>\n      <td>103100.0</td>\n      <td>0</td>\n      <td>0</td>\n      <td>0</td>\n      <td>1</td>\n      <td>0</td>\n    </tr>\n    <tr>\n      <th>16509</th>\n      <td>-121.22</td>\n      <td>38.92</td>\n      <td>19.0</td>\n      <td>2531.0</td>\n      <td>461.0</td>\n      <td>1206.0</td>\n      <td>429.0</td>\n      <td>44958.0</td>\n      <td>192600.0</td>\n      <td>0</td>\n      <td>1</td>\n      <td>0</td>\n      <td>0</td>\n      <td>0</td>\n    </tr>\n    <tr>\n      <th>16510</th>\n      <td>-118.14</td>\n      <td>34.16</td>\n      <td>39.0</td>\n      <td>2776.0</td>\n      <td>840.0</td>\n      <td>2546.0</td>\n      <td>773.0</td>\n      <td>25750.0</td>\n      <td>153500.0</td>\n      <td>1</td>\n      <td>0</td>\n      <td>0</td>\n      <td>0</td>\n      <td>0</td>\n    </tr>\n    <tr>\n      <th>16511</th>\n      <td>-124.13</td>\n      <td>40.80</td>\n      <td>31.0</td>\n      <td>2152.0</td>\n      <td>462.0</td>\n      <td>1259.0</td>\n      <td>420.0</td>\n      <td>22478.0</td>\n      <td>81100.0</td>\n      <td>0</td>\n      <td>0</td>\n      <td>0</td>\n      <td>0</td>\n      <td>1</td>\n    </tr>\n  </tbody>\n</table>\n<p>16512 rows × 14 columns</p>\n</div>"
     },
     "execution_count": 21,
     "metadata": {},
     "output_type": "execute_result"
    }
   ],
   "source": [
    "# dropping unneeded ocean_proximity raw feature\n",
    "df = df.drop(['ocean_proximity'], axis=1)\n",
    "# merging encoded feature instances into the scaled dataframe\n",
    "df = pd.merge(\n",
    "    left=df,\n",
    "    right=dummy_ocn_prx,\n",
    "    left_index=True,\n",
    "    right_index=True,\n",
    ")\n",
    "df"
   ],
   "metadata": {
    "collapsed": false,
    "pycharm": {
     "name": "#%%\n"
    }
   }
  },
  {
   "cell_type": "markdown",
   "source": [
    "## Building a baseline model\n",
    "### Linear regression"
   ],
   "metadata": {
    "collapsed": false,
    "pycharm": {
     "name": "#%% md\n"
    }
   }
  },
  {
   "cell_type": "markdown",
   "source": [
    "#### Hold-out split"
   ],
   "metadata": {
    "collapsed": false,
    "pycharm": {
     "name": "#%% md\n"
    }
   }
  },
  {
   "cell_type": "code",
   "execution_count": 95,
   "outputs": [],
   "source": [
    "# define X, y\n",
    "X = df.drop(\"median_house_value\", axis=1)\n",
    "y = df[\"median_house_value\"]"
   ],
   "metadata": {
    "collapsed": false,
    "pycharm": {
     "name": "#%%\n"
    }
   }
  },
  {
   "cell_type": "code",
   "execution_count": 23,
   "outputs": [],
   "source": [
    "X_train, X_test, y_train, y_test = train_test_split(X, y, test_size=0.33, random_state=42)"
   ],
   "metadata": {
    "collapsed": false,
    "pycharm": {
     "name": "#%%\n"
    }
   }
  },
  {
   "cell_type": "markdown",
   "source": [
    "#### Instantiate Linear regression model"
   ],
   "metadata": {
    "collapsed": false,
    "pycharm": {
     "name": "#%% md\n"
    }
   }
  },
  {
   "cell_type": "code",
   "execution_count": 24,
   "outputs": [
    {
     "data": {
      "text/plain": "0.6562230949358678"
     },
     "execution_count": 24,
     "metadata": {},
     "output_type": "execute_result"
    }
   ],
   "source": [
    "reg = LinearRegression().fit(X_train, y_train)\n",
    "reg.predict(X_test)\n",
    "# return model's score\n",
    "reg.score(X_test, y_test)"
   ],
   "metadata": {
    "collapsed": false,
    "pycharm": {
     "name": "#%%\n"
    }
   }
  },
  {
   "cell_type": "markdown",
   "source": [
    "## First Iteration : Data Cleaning / Feature Engineering"
   ],
   "metadata": {
    "collapsed": false,
    "pycharm": {
     "name": "#%% md\n"
    }
   }
  },
  {
   "cell_type": "markdown",
   "source": [
    "### Scaling\n",
    "\n",
    "*Does your data need scaling / normalizing across the feature lists?*\n",
    "*What kind of scaling method would you do ? ( Standard Scaling / Min-Max Scaling?)*\n",
    "\n",
    "- Our data needs to be scaled since the feature's seems to be uniform, but it would be necessary to be normalized as well if model's metrics shows there's a vast quantity of outliers.\n",
    "\n",
    "- We would perform then Standard Scaling method"
   ],
   "metadata": {
    "collapsed": false,
    "pycharm": {
     "name": "#%% md\n"
    }
   }
  },
  {
   "cell_type": "markdown",
   "source": [
    "#### Importing scaled data set and encoded ocean_proximity categorical feature"
   ],
   "metadata": {
    "collapsed": false,
    "pycharm": {
     "name": "#%% md\n"
    }
   }
  },
  {
   "cell_type": "code",
   "execution_count": 52,
   "outputs": [],
   "source": [
    "X_scaled = pd.read_csv('../data/data_scd_ecd.csv')"
   ],
   "metadata": {
    "collapsed": false,
    "pycharm": {
     "name": "#%%\n"
    }
   }
  },
  {
   "cell_type": "code",
   "execution_count": 42,
   "outputs": [
    {
     "data": {
      "text/plain": "       longitude  latitude  housing_median_age  total_rooms  total_bedrooms  \\\n0      -0.137635  0.534564           -1.795939    -0.357368       -0.156633   \n1       0.879836 -0.909979           -1.637178    -0.276515       -0.449079   \n2      -0.312201  0.455091           -0.287715    -0.799127       -0.767468   \n3       0.620480 -0.713633            0.188566    -0.913406       -0.732092   \n4      -0.830911  1.011403           -0.605236    -0.326201       -0.392477   \n...          ...       ...                 ...          ...             ...   \n16507  -1.165080  1.852884           -0.684616    -0.532626       -0.616528   \n16508  -1.339646  1.161000            1.617410    -0.126100       -0.083522   \n16509  -0.825923  1.539666           -0.763996    -0.051119       -0.184934   \n16510   0.710257 -0.685584            0.823608     0.059547        0.708913   \n16511  -2.277315  2.418547            0.188566    -0.222311       -0.182576   \n\n       population  households  median_income  <1H OCEAN  INLAND  ISLAND  \\\n0       -0.032827   -0.218173      -1.258403          0       1       0   \n1       -0.494784   -0.417841       1.610623          1       0       0   \n2       -0.435204   -0.744572      -1.220425          0       1       0   \n3       -0.723603   -0.710862      -1.233736          1       0       0   \n4       -0.263373   -0.334862       0.114837          0       1       0   \n...           ...         ...            ...        ...     ...     ...   \n16507   -0.595810   -0.651220      -0.423409          0       1       0   \n16508   -0.262510   -0.111856      -0.660681          0       0       0   \n16509   -0.197750   -0.187056       0.333675          0       1       0   \n16510    0.959301    0.704970      -0.680911          1       0       0   \n16511   -0.151986   -0.210394      -0.853741          0       0       0   \n\n       NEAR BAY  NEAR OCEAN  median_house_value  \n0             0           0             72000.0  \n1             0           0            274100.0  \n2             0           0             58300.0  \n3             0           0            200000.0  \n4             0           0            117900.0  \n...         ...         ...                 ...  \n16507         0           0             93800.0  \n16508         1           0            103100.0  \n16509         0           0            192600.0  \n16510         0           0            153500.0  \n16511         0           1             81100.0  \n\n[16512 rows x 14 columns]",
      "text/html": "<div>\n<style scoped>\n    .dataframe tbody tr th:only-of-type {\n        vertical-align: middle;\n    }\n\n    .dataframe tbody tr th {\n        vertical-align: top;\n    }\n\n    .dataframe thead th {\n        text-align: right;\n    }\n</style>\n<table border=\"1\" class=\"dataframe\">\n  <thead>\n    <tr style=\"text-align: right;\">\n      <th></th>\n      <th>longitude</th>\n      <th>latitude</th>\n      <th>housing_median_age</th>\n      <th>total_rooms</th>\n      <th>total_bedrooms</th>\n      <th>population</th>\n      <th>households</th>\n      <th>median_income</th>\n      <th>&lt;1H OCEAN</th>\n      <th>INLAND</th>\n      <th>ISLAND</th>\n      <th>NEAR BAY</th>\n      <th>NEAR OCEAN</th>\n      <th>median_house_value</th>\n    </tr>\n  </thead>\n  <tbody>\n    <tr>\n      <th>0</th>\n      <td>-0.137635</td>\n      <td>0.534564</td>\n      <td>-1.795939</td>\n      <td>-0.357368</td>\n      <td>-0.156633</td>\n      <td>-0.032827</td>\n      <td>-0.218173</td>\n      <td>-1.258403</td>\n      <td>0</td>\n      <td>1</td>\n      <td>0</td>\n      <td>0</td>\n      <td>0</td>\n      <td>72000.0</td>\n    </tr>\n    <tr>\n      <th>1</th>\n      <td>0.879836</td>\n      <td>-0.909979</td>\n      <td>-1.637178</td>\n      <td>-0.276515</td>\n      <td>-0.449079</td>\n      <td>-0.494784</td>\n      <td>-0.417841</td>\n      <td>1.610623</td>\n      <td>1</td>\n      <td>0</td>\n      <td>0</td>\n      <td>0</td>\n      <td>0</td>\n      <td>274100.0</td>\n    </tr>\n    <tr>\n      <th>2</th>\n      <td>-0.312201</td>\n      <td>0.455091</td>\n      <td>-0.287715</td>\n      <td>-0.799127</td>\n      <td>-0.767468</td>\n      <td>-0.435204</td>\n      <td>-0.744572</td>\n      <td>-1.220425</td>\n      <td>0</td>\n      <td>1</td>\n      <td>0</td>\n      <td>0</td>\n      <td>0</td>\n      <td>58300.0</td>\n    </tr>\n    <tr>\n      <th>3</th>\n      <td>0.620480</td>\n      <td>-0.713633</td>\n      <td>0.188566</td>\n      <td>-0.913406</td>\n      <td>-0.732092</td>\n      <td>-0.723603</td>\n      <td>-0.710862</td>\n      <td>-1.233736</td>\n      <td>1</td>\n      <td>0</td>\n      <td>0</td>\n      <td>0</td>\n      <td>0</td>\n      <td>200000.0</td>\n    </tr>\n    <tr>\n      <th>4</th>\n      <td>-0.830911</td>\n      <td>1.011403</td>\n      <td>-0.605236</td>\n      <td>-0.326201</td>\n      <td>-0.392477</td>\n      <td>-0.263373</td>\n      <td>-0.334862</td>\n      <td>0.114837</td>\n      <td>0</td>\n      <td>1</td>\n      <td>0</td>\n      <td>0</td>\n      <td>0</td>\n      <td>117900.0</td>\n    </tr>\n    <tr>\n      <th>...</th>\n      <td>...</td>\n      <td>...</td>\n      <td>...</td>\n      <td>...</td>\n      <td>...</td>\n      <td>...</td>\n      <td>...</td>\n      <td>...</td>\n      <td>...</td>\n      <td>...</td>\n      <td>...</td>\n      <td>...</td>\n      <td>...</td>\n      <td>...</td>\n    </tr>\n    <tr>\n      <th>16507</th>\n      <td>-1.165080</td>\n      <td>1.852884</td>\n      <td>-0.684616</td>\n      <td>-0.532626</td>\n      <td>-0.616528</td>\n      <td>-0.595810</td>\n      <td>-0.651220</td>\n      <td>-0.423409</td>\n      <td>0</td>\n      <td>1</td>\n      <td>0</td>\n      <td>0</td>\n      <td>0</td>\n      <td>93800.0</td>\n    </tr>\n    <tr>\n      <th>16508</th>\n      <td>-1.339646</td>\n      <td>1.161000</td>\n      <td>1.617410</td>\n      <td>-0.126100</td>\n      <td>-0.083522</td>\n      <td>-0.262510</td>\n      <td>-0.111856</td>\n      <td>-0.660681</td>\n      <td>0</td>\n      <td>0</td>\n      <td>0</td>\n      <td>1</td>\n      <td>0</td>\n      <td>103100.0</td>\n    </tr>\n    <tr>\n      <th>16509</th>\n      <td>-0.825923</td>\n      <td>1.539666</td>\n      <td>-0.763996</td>\n      <td>-0.051119</td>\n      <td>-0.184934</td>\n      <td>-0.197750</td>\n      <td>-0.187056</td>\n      <td>0.333675</td>\n      <td>0</td>\n      <td>1</td>\n      <td>0</td>\n      <td>0</td>\n      <td>0</td>\n      <td>192600.0</td>\n    </tr>\n    <tr>\n      <th>16510</th>\n      <td>0.710257</td>\n      <td>-0.685584</td>\n      <td>0.823608</td>\n      <td>0.059547</td>\n      <td>0.708913</td>\n      <td>0.959301</td>\n      <td>0.704970</td>\n      <td>-0.680911</td>\n      <td>1</td>\n      <td>0</td>\n      <td>0</td>\n      <td>0</td>\n      <td>0</td>\n      <td>153500.0</td>\n    </tr>\n    <tr>\n      <th>16511</th>\n      <td>-2.277315</td>\n      <td>2.418547</td>\n      <td>0.188566</td>\n      <td>-0.222311</td>\n      <td>-0.182576</td>\n      <td>-0.151986</td>\n      <td>-0.210394</td>\n      <td>-0.853741</td>\n      <td>0</td>\n      <td>0</td>\n      <td>0</td>\n      <td>0</td>\n      <td>1</td>\n      <td>81100.0</td>\n    </tr>\n  </tbody>\n</table>\n<p>16512 rows × 14 columns</p>\n</div>"
     },
     "execution_count": 42,
     "metadata": {},
     "output_type": "execute_result"
    }
   ],
   "source": [
    "X_scaled"
   ],
   "metadata": {
    "collapsed": false,
    "pycharm": {
     "name": "#%%\n"
    }
   }
  },
  {
   "cell_type": "markdown",
   "source": [
    "#### Hold-out split"
   ],
   "metadata": {
    "collapsed": false,
    "pycharm": {
     "name": "#%% md\n"
    }
   }
  },
  {
   "cell_type": "code",
   "execution_count": 48,
   "outputs": [],
   "source": [
    "# define X, y\n",
    "X = X_scaled.drop(\"median_house_value\", axis=1)\n",
    "y = X_scaled[\"median_house_value\"]\n",
    "\n",
    "# Splitting data set\n",
    "X_train, X_test, y_train, y_test = train_test_split(X, y, test_size=0.33, random_state=42)"
   ],
   "metadata": {
    "collapsed": false,
    "pycharm": {
     "name": "#%%\n"
    }
   }
  },
  {
   "cell_type": "markdown",
   "source": [
    "#### Instantiate Linear regression model"
   ],
   "metadata": {
    "collapsed": false,
    "pycharm": {
     "name": "#%% md\n"
    }
   }
  },
  {
   "cell_type": "code",
   "execution_count": 49,
   "outputs": [
    {
     "data": {
      "text/plain": "0.6562230949358718"
     },
     "execution_count": 49,
     "metadata": {},
     "output_type": "execute_result"
    }
   ],
   "source": [
    "reg = LinearRegression().fit(X_train, y_train)\n",
    "reg.predict(X_test)\n",
    "# return model's score\n",
    "reg.score(X_test, y_test)"
   ],
   "metadata": {
    "collapsed": false,
    "pycharm": {
     "name": "#%%\n"
    }
   }
  },
  {
   "cell_type": "markdown",
   "source": [
    "### *Notes*\n",
    "\n",
    "The score has not changed at all, even after a feature scaling treatment."
   ],
   "metadata": {
    "collapsed": false,
    "pycharm": {
     "name": "#%% md\n"
    }
   }
  },
  {
   "cell_type": "markdown",
   "source": [
    "## Second Iteration :  Feature Engineering / Selection"
   ],
   "metadata": {
    "collapsed": false,
    "pycharm": {
     "name": "#%% md\n"
    }
   }
  },
  {
   "cell_type": "markdown",
   "source": [
    "### Create new features\n",
    "\n",
    "We could handle those coordinates features performing a clustering to categorize them per 'cluster' in addition to the current per ocean proximity categorical feature, that we'll one hot encode to get better results."
   ],
   "metadata": {
    "collapsed": false,
    "pycharm": {
     "name": "#%% md\n"
    }
   }
  },
  {
   "cell_type": "code",
   "execution_count": 50,
   "outputs": [
    {
     "data": {
      "text/plain": "<Figure size 432x288 with 1 Axes>",
      "image/png": "[encoded data removed]"
     },
     "metadata": {
      "needs_background": "light"
     },
     "output_type": "display_data"
    }
   ],
   "source": [
    "# importing required library\n",
    "from sklearn.cluster import KMeans\n",
    "\n",
    "# create coordinates-only dataframe\n",
    "cdts_df = X_scaled[['longitude', 'latitude']]\n",
    "\n",
    "# plot Elbow chart to identify optimal k clusters\n",
    "Sum_of_squared_distances = []\n",
    "K = range(1,15)\n",
    "for k in K:\n",
    "    km = KMeans(n_clusters=k)\n",
    "    km = km.fit(cdts_df)\n",
    "    Sum_of_squared_distances.append(km.inertia_)\n",
    "\n",
    "plt.plot(K, Sum_of_squared_distances, 'bx-')\n",
    "plt.xlabel('k')\n",
    "plt.ylabel('Sum_of_squared_distances')\n",
    "plt.title('Elbow Method For Optimal k')\n",
    "plt.show()"
   ],
   "metadata": {
    "collapsed": false,
    "pycharm": {
     "name": "#%%\n"
    }
   }
  },
  {
   "cell_type": "markdown",
   "source": [
    "In the plot above the elbow is at k=2, indicating optimal k for this dataset is 2."
   ],
   "metadata": {
    "collapsed": false,
    "pycharm": {
     "name": "#%% md\n"
    }
   }
  },
  {
   "cell_type": "code",
   "execution_count": 53,
   "outputs": [
    {
     "data": {
      "text/plain": "       longitude  latitude  housing_median_age  total_rooms  total_bedrooms  \\\n0      -0.137635  0.534564           -1.795939    -0.357368       -0.156633   \n1       0.879836 -0.909979           -1.637178    -0.276515       -0.449079   \n2      -0.312201  0.455091           -0.287715    -0.799127       -0.767468   \n3       0.620480 -0.713633            0.188566    -0.913406       -0.732092   \n4      -0.830911  1.011403           -0.605236    -0.326201       -0.392477   \n...          ...       ...                 ...          ...             ...   \n16507  -1.165080  1.852884           -0.684616    -0.532626       -0.616528   \n16508  -1.339646  1.161000            1.617410    -0.126100       -0.083522   \n16509  -0.825923  1.539666           -0.763996    -0.051119       -0.184934   \n16510   0.710257 -0.685584            0.823608     0.059547        0.708913   \n16511  -2.277315  2.418547            0.188566    -0.222311       -0.182576   \n\n       population  households  median_income  <1H OCEAN  INLAND  ISLAND  \\\n0       -0.032827   -0.218173      -1.258403          0       1       0   \n1       -0.494784   -0.417841       1.610623          1       0       0   \n2       -0.435204   -0.744572      -1.220425          0       1       0   \n3       -0.723603   -0.710862      -1.233736          1       0       0   \n4       -0.263373   -0.334862       0.114837          0       1       0   \n...           ...         ...            ...        ...     ...     ...   \n16507   -0.595810   -0.651220      -0.423409          0       1       0   \n16508   -0.262510   -0.111856      -0.660681          0       0       0   \n16509   -0.197750   -0.187056       0.333675          0       1       0   \n16510    0.959301    0.704970      -0.680911          1       0       0   \n16511   -0.151986   -0.210394      -0.853741          0       0       0   \n\n       NEAR BAY  NEAR OCEAN  median_house_value  geo_clusters  \n0             0           0             72000.0             1  \n1             0           0            274100.0             0  \n2             0           0             58300.0             1  \n3             0           0            200000.0             0  \n4             0           0            117900.0             1  \n...         ...         ...                 ...           ...  \n16507         0           0             93800.0             1  \n16508         1           0            103100.0             1  \n16509         0           0            192600.0             1  \n16510         0           0            153500.0             0  \n16511         0           1             81100.0             1  \n\n[16512 rows x 15 columns]",
      "text/html": "<div>\n<style scoped>\n    .dataframe tbody tr th:only-of-type {\n        vertical-align: middle;\n    }\n\n    .dataframe tbody tr th {\n        vertical-align: top;\n    }\n\n    .dataframe thead th {\n        text-align: right;\n    }\n</style>\n<table border=\"1\" class=\"dataframe\">\n  <thead>\n    <tr style=\"text-align: right;\">\n      <th></th>\n      <th>longitude</th>\n      <th>latitude</th>\n      <th>housing_median_age</th>\n      <th>total_rooms</th>\n      <th>total_bedrooms</th>\n      <th>population</th>\n      <th>households</th>\n      <th>median_income</th>\n      <th>&lt;1H OCEAN</th>\n      <th>INLAND</th>\n      <th>ISLAND</th>\n      <th>NEAR BAY</th>\n      <th>NEAR OCEAN</th>\n      <th>median_house_value</th>\n      <th>geo_clusters</th>\n    </tr>\n  </thead>\n  <tbody>\n    <tr>\n      <th>0</th>\n      <td>-0.137635</td>\n      <td>0.534564</td>\n      <td>-1.795939</td>\n      <td>-0.357368</td>\n      <td>-0.156633</td>\n      <td>-0.032827</td>\n      <td>-0.218173</td>\n      <td>-1.258403</td>\n      <td>0</td>\n      <td>1</td>\n      <td>0</td>\n      <td>0</td>\n      <td>0</td>\n      <td>72000.0</td>\n      <td>1</td>\n    </tr>\n    <tr>\n      <th>1</th>\n      <td>0.879836</td>\n      <td>-0.909979</td>\n      <td>-1.637178</td>\n      <td>-0.276515</td>\n      <td>-0.449079</td>\n      <td>-0.494784</td>\n      <td>-0.417841</td>\n      <td>1.610623</td>\n      <td>1</td>\n      <td>0</td>\n      <td>0</td>\n      <td>0</td>\n      <td>0</td>\n      <td>274100.0</td>\n      <td>0</td>\n    </tr>\n    <tr>\n      <th>2</th>\n      <td>-0.312201</td>\n      <td>0.455091</td>\n      <td>-0.287715</td>\n      <td>-0.799127</td>\n      <td>-0.767468</td>\n      <td>-0.435204</td>\n      <td>-0.744572</td>\n      <td>-1.220425</td>\n      <td>0</td>\n      <td>1</td>\n      <td>0</td>\n      <td>0</td>\n      <td>0</td>\n      <td>58300.0</td>\n      <td>1</td>\n    </tr>\n    <tr>\n      <th>3</th>\n      <td>0.620480</td>\n      <td>-0.713633</td>\n      <td>0.188566</td>\n      <td>-0.913406</td>\n      <td>-0.732092</td>\n      <td>-0.723603</td>\n      <td>-0.710862</td>\n      <td>-1.233736</td>\n      <td>1</td>\n      <td>0</td>\n      <td>0</td>\n      <td>0</td>\n      <td>0</td>\n      <td>200000.0</td>\n      <td>0</td>\n    </tr>\n    <tr>\n      <th>4</th>\n      <td>-0.830911</td>\n      <td>1.011403</td>\n      <td>-0.605236</td>\n      <td>-0.326201</td>\n      <td>-0.392477</td>\n      <td>-0.263373</td>\n      <td>-0.334862</td>\n      <td>0.114837</td>\n      <td>0</td>\n      <td>1</td>\n      <td>0</td>\n      <td>0</td>\n      <td>0</td>\n      <td>117900.0</td>\n      <td>1</td>\n    </tr>\n    <tr>\n      <th>...</th>\n      <td>...</td>\n      <td>...</td>\n      <td>...</td>\n      <td>...</td>\n      <td>...</td>\n      <td>...</td>\n      <td>...</td>\n      <td>...</td>\n      <td>...</td>\n      <td>...</td>\n      <td>...</td>\n      <td>...</td>\n      <td>...</td>\n      <td>...</td>\n      <td>...</td>\n    </tr>\n    <tr>\n      <th>16507</th>\n      <td>-1.165080</td>\n      <td>1.852884</td>\n      <td>-0.684616</td>\n      <td>-0.532626</td>\n      <td>-0.616528</td>\n      <td>-0.595810</td>\n      <td>-0.651220</td>\n      <td>-0.423409</td>\n      <td>0</td>\n      <td>1</td>\n      <td>0</td>\n      <td>0</td>\n      <td>0</td>\n      <td>93800.0</td>\n      <td>1</td>\n    </tr>\n    <tr>\n      <th>16508</th>\n      <td>-1.339646</td>\n      <td>1.161000</td>\n      <td>1.617410</td>\n      <td>-0.126100</td>\n      <td>-0.083522</td>\n      <td>-0.262510</td>\n      <td>-0.111856</td>\n      <td>-0.660681</td>\n      <td>0</td>\n      <td>0</td>\n      <td>0</td>\n      <td>1</td>\n      <td>0</td>\n      <td>103100.0</td>\n      <td>1</td>\n    </tr>\n    <tr>\n      <th>16509</th>\n      <td>-0.825923</td>\n      <td>1.539666</td>\n      <td>-0.763996</td>\n      <td>-0.051119</td>\n      <td>-0.184934</td>\n      <td>-0.197750</td>\n      <td>-0.187056</td>\n      <td>0.333675</td>\n      <td>0</td>\n      <td>1</td>\n      <td>0</td>\n      <td>0</td>\n      <td>0</td>\n      <td>192600.0</td>\n      <td>1</td>\n    </tr>\n    <tr>\n      <th>16510</th>\n      <td>0.710257</td>\n      <td>-0.685584</td>\n      <td>0.823608</td>\n      <td>0.059547</td>\n      <td>0.708913</td>\n      <td>0.959301</td>\n      <td>0.704970</td>\n      <td>-0.680911</td>\n      <td>1</td>\n      <td>0</td>\n      <td>0</td>\n      <td>0</td>\n      <td>0</td>\n      <td>153500.0</td>\n      <td>0</td>\n    </tr>\n    <tr>\n      <th>16511</th>\n      <td>-2.277315</td>\n      <td>2.418547</td>\n      <td>0.188566</td>\n      <td>-0.222311</td>\n      <td>-0.182576</td>\n      <td>-0.151986</td>\n      <td>-0.210394</td>\n      <td>-0.853741</td>\n      <td>0</td>\n      <td>0</td>\n      <td>0</td>\n      <td>0</td>\n      <td>1</td>\n      <td>81100.0</td>\n      <td>1</td>\n    </tr>\n  </tbody>\n</table>\n<p>16512 rows × 15 columns</p>\n</div>"
     },
     "execution_count": 53,
     "metadata": {},
     "output_type": "execute_result"
    }
   ],
   "source": [
    "# creates 2 clusters using k-means clustering method\n",
    "kmeans = KMeans(2)\n",
    "kmeans.fit_predict(cdts_df)\n",
    "# create new feature in which adding clustered instances\n",
    "X_scaled['geo_clusters'] = kmeans.predict(cdts_df)\n",
    "X_scaled"
   ],
   "metadata": {
    "collapsed": false,
    "pycharm": {
     "name": "#%%\n"
    }
   }
  },
  {
   "cell_type": "code",
   "execution_count": 54,
   "outputs": [
    {
     "data": {
      "text/plain": "<AxesSubplot:xlabel='longitude', ylabel='latitude'>"
     },
     "execution_count": 54,
     "metadata": {},
     "output_type": "execute_result"
    },
    {
     "data": {
      "text/plain": "<Figure size 432x288 with 1 Axes>",
      "image/png": "[encoded data removed]"
     },
     "metadata": {
      "needs_background": "light"
     },
     "output_type": "display_data"
    }
   ],
   "source": [
    "# plot clusters\n",
    "sns.scatterplot(data=cdts_df, x='longitude', y=\"latitude\", hue=X_scaled.geo_clusters)"
   ],
   "metadata": {
    "collapsed": false,
    "pycharm": {
     "name": "#%%\n"
    }
   }
  },
  {
   "cell_type": "markdown",
   "source": [
    "#### Encoding geo_clusters feature"
   ],
   "metadata": {
    "collapsed": false,
    "pycharm": {
     "name": "#%% md\n"
    }
   }
  },
  {
   "cell_type": "code",
   "execution_count": 56,
   "outputs": [
    {
     "name": "stdout",
     "output_type": "stream",
     "text": [
      "       geo_cluster_1  geo_cluster_2\n",
      "0                  0              1\n",
      "1                  1              0\n",
      "2                  0              1\n",
      "3                  1              0\n",
      "4                  0              1\n",
      "...              ...            ...\n",
      "16507              0              1\n",
      "16508              0              1\n",
      "16509              0              1\n",
      "16510              1              0\n",
      "16511              0              1\n",
      "\n",
      "[16512 rows x 2 columns]\n"
     ]
    }
   ],
   "source": [
    "# Using get_dummies() pandas method to return a dataframe with clusters as dummy variables.\n",
    "dummy_geo_clusters = pd.DataFrame(data=pd.get_dummies(X_scaled.geo_clusters).values, columns=['geo_cluster_1', 'geo_cluster_2'])\n",
    "print(dummy_geo_clusters)"
   ],
   "metadata": {
    "collapsed": false,
    "pycharm": {
     "name": "#%%\n"
    }
   }
  },
  {
   "cell_type": "code",
   "execution_count": 57,
   "outputs": [
    {
     "data": {
      "text/plain": "       longitude  latitude  housing_median_age  total_rooms  total_bedrooms  \\\n0      -0.137635  0.534564           -1.795939    -0.357368       -0.156633   \n1       0.879836 -0.909979           -1.637178    -0.276515       -0.449079   \n2      -0.312201  0.455091           -0.287715    -0.799127       -0.767468   \n3       0.620480 -0.713633            0.188566    -0.913406       -0.732092   \n4      -0.830911  1.011403           -0.605236    -0.326201       -0.392477   \n...          ...       ...                 ...          ...             ...   \n16507  -1.165080  1.852884           -0.684616    -0.532626       -0.616528   \n16508  -1.339646  1.161000            1.617410    -0.126100       -0.083522   \n16509  -0.825923  1.539666           -0.763996    -0.051119       -0.184934   \n16510   0.710257 -0.685584            0.823608     0.059547        0.708913   \n16511  -2.277315  2.418547            0.188566    -0.222311       -0.182576   \n\n       population  households  median_income  <1H OCEAN  INLAND  ISLAND  \\\n0       -0.032827   -0.218173      -1.258403          0       1       0   \n1       -0.494784   -0.417841       1.610623          1       0       0   \n2       -0.435204   -0.744572      -1.220425          0       1       0   \n3       -0.723603   -0.710862      -1.233736          1       0       0   \n4       -0.263373   -0.334862       0.114837          0       1       0   \n...           ...         ...            ...        ...     ...     ...   \n16507   -0.595810   -0.651220      -0.423409          0       1       0   \n16508   -0.262510   -0.111856      -0.660681          0       0       0   \n16509   -0.197750   -0.187056       0.333675          0       1       0   \n16510    0.959301    0.704970      -0.680911          1       0       0   \n16511   -0.151986   -0.210394      -0.853741          0       0       0   \n\n       NEAR BAY  NEAR OCEAN  median_house_value  geo_cluster_1  geo_cluster_2  \n0             0           0             72000.0              0              1  \n1             0           0            274100.0              1              0  \n2             0           0             58300.0              0              1  \n3             0           0            200000.0              1              0  \n4             0           0            117900.0              0              1  \n...         ...         ...                 ...            ...            ...  \n16507         0           0             93800.0              0              1  \n16508         1           0            103100.0              0              1  \n16509         0           0            192600.0              0              1  \n16510         0           0            153500.0              1              0  \n16511         0           1             81100.0              0              1  \n\n[16512 rows x 16 columns]",
      "text/html": "<div>\n<style scoped>\n    .dataframe tbody tr th:only-of-type {\n        vertical-align: middle;\n    }\n\n    .dataframe tbody tr th {\n        vertical-align: top;\n    }\n\n    .dataframe thead th {\n        text-align: right;\n    }\n</style>\n<table border=\"1\" class=\"dataframe\">\n  <thead>\n    <tr style=\"text-align: right;\">\n      <th></th>\n      <th>longitude</th>\n      <th>latitude</th>\n      <th>housing_median_age</th>\n      <th>total_rooms</th>\n      <th>total_bedrooms</th>\n      <th>population</th>\n      <th>households</th>\n      <th>median_income</th>\n      <th>&lt;1H OCEAN</th>\n      <th>INLAND</th>\n      <th>ISLAND</th>\n      <th>NEAR BAY</th>\n      <th>NEAR OCEAN</th>\n      <th>median_house_value</th>\n      <th>geo_cluster_1</th>\n      <th>geo_cluster_2</th>\n    </tr>\n  </thead>\n  <tbody>\n    <tr>\n      <th>0</th>\n      <td>-0.137635</td>\n      <td>0.534564</td>\n      <td>-1.795939</td>\n      <td>-0.357368</td>\n      <td>-0.156633</td>\n      <td>-0.032827</td>\n      <td>-0.218173</td>\n      <td>-1.258403</td>\n      <td>0</td>\n      <td>1</td>\n      <td>0</td>\n      <td>0</td>\n      <td>0</td>\n      <td>72000.0</td>\n      <td>0</td>\n      <td>1</td>\n    </tr>\n    <tr>\n      <th>1</th>\n      <td>0.879836</td>\n      <td>-0.909979</td>\n      <td>-1.637178</td>\n      <td>-0.276515</td>\n      <td>-0.449079</td>\n      <td>-0.494784</td>\n      <td>-0.417841</td>\n      <td>1.610623</td>\n      <td>1</td>\n      <td>0</td>\n      <td>0</td>\n      <td>0</td>\n      <td>0</td>\n      <td>274100.0</td>\n      <td>1</td>\n      <td>0</td>\n    </tr>\n    <tr>\n      <th>2</th>\n      <td>-0.312201</td>\n      <td>0.455091</td>\n      <td>-0.287715</td>\n      <td>-0.799127</td>\n      <td>-0.767468</td>\n      <td>-0.435204</td>\n      <td>-0.744572</td>\n      <td>-1.220425</td>\n      <td>0</td>\n      <td>1</td>\n      <td>0</td>\n      <td>0</td>\n      <td>0</td>\n      <td>58300.0</td>\n      <td>0</td>\n      <td>1</td>\n    </tr>\n    <tr>\n      <th>3</th>\n      <td>0.620480</td>\n      <td>-0.713633</td>\n      <td>0.188566</td>\n      <td>-0.913406</td>\n      <td>-0.732092</td>\n      <td>-0.723603</td>\n      <td>-0.710862</td>\n      <td>-1.233736</td>\n      <td>1</td>\n      <td>0</td>\n      <td>0</td>\n      <td>0</td>\n      <td>0</td>\n      <td>200000.0</td>\n      <td>1</td>\n      <td>0</td>\n    </tr>\n    <tr>\n      <th>4</th>\n      <td>-0.830911</td>\n      <td>1.011403</td>\n      <td>-0.605236</td>\n      <td>-0.326201</td>\n      <td>-0.392477</td>\n      <td>-0.263373</td>\n      <td>-0.334862</td>\n      <td>0.114837</td>\n      <td>0</td>\n      <td>1</td>\n      <td>0</td>\n      <td>0</td>\n      <td>0</td>\n      <td>117900.0</td>\n      <td>0</td>\n      <td>1</td>\n    </tr>\n    <tr>\n      <th>...</th>\n      <td>...</td>\n      <td>...</td>\n      <td>...</td>\n      <td>...</td>\n      <td>...</td>\n      <td>...</td>\n      <td>...</td>\n      <td>...</td>\n      <td>...</td>\n      <td>...</td>\n      <td>...</td>\n      <td>...</td>\n      <td>...</td>\n      <td>...</td>\n      <td>...</td>\n      <td>...</td>\n    </tr>\n    <tr>\n      <th>16507</th>\n      <td>-1.165080</td>\n      <td>1.852884</td>\n      <td>-0.684616</td>\n      <td>-0.532626</td>\n      <td>-0.616528</td>\n      <td>-0.595810</td>\n      <td>-0.651220</td>\n      <td>-0.423409</td>\n      <td>0</td>\n      <td>1</td>\n      <td>0</td>\n      <td>0</td>\n      <td>0</td>\n      <td>93800.0</td>\n      <td>0</td>\n      <td>1</td>\n    </tr>\n    <tr>\n      <th>16508</th>\n      <td>-1.339646</td>\n      <td>1.161000</td>\n      <td>1.617410</td>\n      <td>-0.126100</td>\n      <td>-0.083522</td>\n      <td>-0.262510</td>\n      <td>-0.111856</td>\n      <td>-0.660681</td>\n      <td>0</td>\n      <td>0</td>\n      <td>0</td>\n      <td>1</td>\n      <td>0</td>\n      <td>103100.0</td>\n      <td>0</td>\n      <td>1</td>\n    </tr>\n    <tr>\n      <th>16509</th>\n      <td>-0.825923</td>\n      <td>1.539666</td>\n      <td>-0.763996</td>\n      <td>-0.051119</td>\n      <td>-0.184934</td>\n      <td>-0.197750</td>\n      <td>-0.187056</td>\n      <td>0.333675</td>\n      <td>0</td>\n      <td>1</td>\n      <td>0</td>\n      <td>0</td>\n      <td>0</td>\n      <td>192600.0</td>\n      <td>0</td>\n      <td>1</td>\n    </tr>\n    <tr>\n      <th>16510</th>\n      <td>0.710257</td>\n      <td>-0.685584</td>\n      <td>0.823608</td>\n      <td>0.059547</td>\n      <td>0.708913</td>\n      <td>0.959301</td>\n      <td>0.704970</td>\n      <td>-0.680911</td>\n      <td>1</td>\n      <td>0</td>\n      <td>0</td>\n      <td>0</td>\n      <td>0</td>\n      <td>153500.0</td>\n      <td>1</td>\n      <td>0</td>\n    </tr>\n    <tr>\n      <th>16511</th>\n      <td>-2.277315</td>\n      <td>2.418547</td>\n      <td>0.188566</td>\n      <td>-0.222311</td>\n      <td>-0.182576</td>\n      <td>-0.151986</td>\n      <td>-0.210394</td>\n      <td>-0.853741</td>\n      <td>0</td>\n      <td>0</td>\n      <td>0</td>\n      <td>0</td>\n      <td>1</td>\n      <td>81100.0</td>\n      <td>0</td>\n      <td>1</td>\n    </tr>\n  </tbody>\n</table>\n<p>16512 rows × 16 columns</p>\n</div>"
     },
     "execution_count": 57,
     "metadata": {},
     "output_type": "execute_result"
    }
   ],
   "source": [
    "# dropping clusters column feature\n",
    "X_scaled = X_scaled.drop(['geo_clusters'], axis=1)\n",
    "\n",
    "# merging encoded feature instances into the scaled dataframe\n",
    "X_scaled = pd.merge(\n",
    "    left=X_scaled,\n",
    "    right=dummy_geo_clusters,\n",
    "    left_index=True,\n",
    "    right_index=True,\n",
    ")\n",
    "X_scaled"
   ],
   "metadata": {
    "collapsed": false,
    "pycharm": {
     "name": "#%%\n"
    }
   }
  },
  {
   "cell_type": "markdown",
   "source": [
    "We've joined encoded clusters new feature to scaled dataset, which has been created by relating scaled coordinates features to find an optimal k cluster."
   ],
   "metadata": {
    "collapsed": false,
    "pycharm": {
     "name": "#%% md\n"
    }
   }
  },
  {
   "cell_type": "markdown",
   "source": [
    "### Feature Selection\n",
    "\n",
    "We'll use PCA dimensional reduction method to perform a feature selection"
   ],
   "metadata": {
    "collapsed": false,
    "pycharm": {
     "name": "#%% md\n"
    }
   }
  },
  {
   "cell_type": "code",
   "execution_count": 79,
   "outputs": [
    {
     "data": {
      "text/plain": "    Cumulative variance percentage\n0                             42.7\n1                             69.0\n2                             80.7\n3                             90.4\n4                             93.7\n5                             95.8\n6                             97.4\n7                             98.4\n8                             99.0\n9                             99.5\n10                            99.8\n11                           100.0\n12                           100.0\n13                           100.0\n14                           100.0",
      "text/html": "<div>\n<style scoped>\n    .dataframe tbody tr th:only-of-type {\n        vertical-align: middle;\n    }\n\n    .dataframe tbody tr th {\n        vertical-align: top;\n    }\n\n    .dataframe thead th {\n        text-align: right;\n    }\n</style>\n<table border=\"1\" class=\"dataframe\">\n  <thead>\n    <tr style=\"text-align: right;\">\n      <th></th>\n      <th>Cumulative variance percentage</th>\n    </tr>\n  </thead>\n  <tbody>\n    <tr>\n      <th>0</th>\n      <td>42.7</td>\n    </tr>\n    <tr>\n      <th>1</th>\n      <td>69.0</td>\n    </tr>\n    <tr>\n      <th>2</th>\n      <td>80.7</td>\n    </tr>\n    <tr>\n      <th>3</th>\n      <td>90.4</td>\n    </tr>\n    <tr>\n      <th>4</th>\n      <td>93.7</td>\n    </tr>\n    <tr>\n      <th>5</th>\n      <td>95.8</td>\n    </tr>\n    <tr>\n      <th>6</th>\n      <td>97.4</td>\n    </tr>\n    <tr>\n      <th>7</th>\n      <td>98.4</td>\n    </tr>\n    <tr>\n      <th>8</th>\n      <td>99.0</td>\n    </tr>\n    <tr>\n      <th>9</th>\n      <td>99.5</td>\n    </tr>\n    <tr>\n      <th>10</th>\n      <td>99.8</td>\n    </tr>\n    <tr>\n      <th>11</th>\n      <td>100.0</td>\n    </tr>\n    <tr>\n      <th>12</th>\n      <td>100.0</td>\n    </tr>\n    <tr>\n      <th>13</th>\n      <td>100.0</td>\n    </tr>\n    <tr>\n      <th>14</th>\n      <td>100.0</td>\n    </tr>\n  </tbody>\n</table>\n</div>"
     },
     "execution_count": 79,
     "metadata": {},
     "output_type": "execute_result"
    }
   ],
   "source": [
    "# defining input features\n",
    "X = X_scaled.drop(\"median_house_value\", axis=1)\n",
    "\n",
    "# define covariance matrix\n",
    "covar_matrix = PCA(n_components = len(X.columns))\n",
    "\n",
    "# calculate Eigenvalues\n",
    "covar_matrix.fit(X)\n",
    "variance = covar_matrix.explained_variance_ratio_ #calculate variance ratios\n",
    "\n",
    "# cumulate sum of variance explained with [n] features\n",
    "var=pd.DataFrame(data=np.cumsum(np.round(covar_matrix.explained_variance_ratio_, decimals=3)*100), columns=['Cumulative variance percentage'])\n",
    "var"
   ],
   "metadata": {
    "collapsed": false,
    "pycharm": {
     "name": "#%%\n"
    }
   }
  },
  {
   "cell_type": "markdown",
   "source": [
    "### Feature Permutation\n",
    "\n",
    "In the above data frame, we notice the first feature explains about 43% of the variance within our data set while the three two explain 80.7% and so on.\n",
    "\n",
    "We'll chose 3 components then."
   ],
   "metadata": {
    "collapsed": false,
    "pycharm": {
     "name": "#%% md\n"
    }
   }
  },
  {
   "cell_type": "code",
   "execution_count": 88,
   "outputs": [
    {
     "data": {
      "text/plain": "            PC1       PC2       PC3\n0     -0.161341  0.875905 -0.649030\n1     -0.128589 -1.609215  2.095439\n2     -1.454687  0.752164 -0.953303\n3     -1.398852 -1.394016 -1.045607\n4     -0.736717  1.498264  0.352312\n...         ...       ...       ...\n16507 -1.376042  2.162115 -0.025960\n16508 -0.982705  1.957552 -0.965018\n16509 -0.405485  1.878276  0.583639\n16510  1.144030 -1.048907 -1.123752\n16511 -0.963371  3.213909 -0.637108\n\n[16512 rows x 3 columns]",
      "text/html": "<div>\n<style scoped>\n    .dataframe tbody tr th:only-of-type {\n        vertical-align: middle;\n    }\n\n    .dataframe tbody tr th {\n        vertical-align: top;\n    }\n\n    .dataframe thead th {\n        text-align: right;\n    }\n</style>\n<table border=\"1\" class=\"dataframe\">\n  <thead>\n    <tr style=\"text-align: right;\">\n      <th></th>\n      <th>PC1</th>\n      <th>PC2</th>\n      <th>PC3</th>\n    </tr>\n  </thead>\n  <tbody>\n    <tr>\n      <th>0</th>\n      <td>-0.161341</td>\n      <td>0.875905</td>\n      <td>-0.649030</td>\n    </tr>\n    <tr>\n      <th>1</th>\n      <td>-0.128589</td>\n      <td>-1.609215</td>\n      <td>2.095439</td>\n    </tr>\n    <tr>\n      <th>2</th>\n      <td>-1.454687</td>\n      <td>0.752164</td>\n      <td>-0.953303</td>\n    </tr>\n    <tr>\n      <th>3</th>\n      <td>-1.398852</td>\n      <td>-1.394016</td>\n      <td>-1.045607</td>\n    </tr>\n    <tr>\n      <th>4</th>\n      <td>-0.736717</td>\n      <td>1.498264</td>\n      <td>0.352312</td>\n    </tr>\n    <tr>\n      <th>...</th>\n      <td>...</td>\n      <td>...</td>\n      <td>...</td>\n    </tr>\n    <tr>\n      <th>16507</th>\n      <td>-1.376042</td>\n      <td>2.162115</td>\n      <td>-0.025960</td>\n    </tr>\n    <tr>\n      <th>16508</th>\n      <td>-0.982705</td>\n      <td>1.957552</td>\n      <td>-0.965018</td>\n    </tr>\n    <tr>\n      <th>16509</th>\n      <td>-0.405485</td>\n      <td>1.878276</td>\n      <td>0.583639</td>\n    </tr>\n    <tr>\n      <th>16510</th>\n      <td>1.144030</td>\n      <td>-1.048907</td>\n      <td>-1.123752</td>\n    </tr>\n    <tr>\n      <th>16511</th>\n      <td>-0.963371</td>\n      <td>3.213909</td>\n      <td>-0.637108</td>\n    </tr>\n  </tbody>\n</table>\n<p>16512 rows × 3 columns</p>\n</div>"
     },
     "execution_count": 88,
     "metadata": {},
     "output_type": "execute_result"
    }
   ],
   "source": [
    "# Make an instance of chosen components\n",
    "pca = PCA(n_components=3)\n",
    "principalComponents = pca.fit_transform(X)\n",
    "\n",
    "principalComponents = pd.DataFrame(data=principalComponents, columns=['PC1', 'PC2', 'PC3'])\n",
    "principalComponents"
   ],
   "metadata": {
    "collapsed": false,
    "pycharm": {
     "name": "#%%\n"
    }
   }
  },
  {
   "cell_type": "markdown",
   "source": [
    "#### Hold-out split"
   ],
   "metadata": {
    "collapsed": false,
    "pycharm": {
     "name": "#%% md\n"
    }
   }
  },
  {
   "cell_type": "code",
   "execution_count": 85,
   "outputs": [],
   "source": [
    "# define X, y\n",
    "X = principalComponents\n",
    "y = X_scaled[\"median_house_value\"]\n",
    "\n",
    "# Splitting data set\n",
    "X_train, X_test, y_train, y_test = train_test_split(X, y, test_size=0.33, random_state=42)"
   ],
   "metadata": {
    "collapsed": false,
    "pycharm": {
     "name": "#%%\n"
    }
   }
  },
  {
   "cell_type": "markdown",
   "source": [
    "#### Instantiate Linear regression model"
   ],
   "metadata": {
    "collapsed": false,
    "pycharm": {
     "name": "#%% md\n"
    }
   }
  },
  {
   "cell_type": "code",
   "execution_count": 86,
   "outputs": [
    {
     "data": {
      "text/plain": "0.3846167206724965"
     },
     "execution_count": 86,
     "metadata": {},
     "output_type": "execute_result"
    }
   ],
   "source": [
    "reg = LinearRegression().fit(X_train, y_train)\n",
    "reg.predict(X_test)\n",
    "# return model's score\n",
    "reg.score(X_test, y_test)"
   ],
   "metadata": {
    "collapsed": false,
    "pycharm": {
     "name": "#%%\n"
    }
   }
  },
  {
   "cell_type": "markdown",
   "source": [
    "### *Notes*\n",
    "\n",
    "After a combined feature engineering and feature selection iteration, we decreased model's performance score by 27%, so we'll conclude our baseline model building iteration here, choosing first iteration model's score."
   ],
   "metadata": {
    "collapsed": false,
    "pycharm": {
     "name": "#%% md\n"
    }
   }
  },
  {
   "cell_type": "markdown",
   "source": [
    "------------------"
   ],
   "metadata": {
    "collapsed": false,
    "pycharm": {
     "name": "#%% md\n"
    }
   }
  },
  {
   "cell_type": "code",
   "execution_count": null,
   "outputs": [],
   "source": [],
   "metadata": {
    "collapsed": false,
    "pycharm": {
     "name": "#%%\n"
    }
   }
  },
  {
   "cell_type": "markdown",
   "source": [],
   "metadata": {
    "collapsed": false,
    "pycharm": {
     "name": "#%% md\n"
    }
   }
  }
 ],
 "metadata": {
  "kernelspec": {
   "display_name": "Python 3 (ipykernel)",
   "language": "python",
   "name": "python3"
  },
  "language_info": {
   "codemirror_mode": {
    "name": "ipython",
    "version": 3
   },
   "file_extension": ".py",
   "mimetype": "text/x-python",
   "name": "python",
   "nbconvert_exporter": "python",
   "pygments_lexer": "ipython3",
   "version": "3.9.7"
  }
 },
 "nbformat": 4,
 "nbformat_minor": 5
}