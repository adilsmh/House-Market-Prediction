{
 "cells": [
  {
   "cell_type": "markdown",
   "source": [
    "# Table of Contents\n",
    "\n",
    "* [Introduction](#Introduction)\n",
    "* [Meta-data](#Meta_data)\n",
    "* [Data Reading](#Data_reading)\n",
    "* [ML Modeling](#ML_modeling)\n",
    "    * []\n",
    "    * []\n",
    "    * []\n",
    "    * []\n",
    "    * []\n",
    "    * []\n",
    "    * []"
   ],
   "metadata": {
    "collapsed": false,
    "pycharm": {
     "name": "#%% md\n"
    }
   }
  },
  {
   "cell_type": "markdown",
   "source": [
    "## Introduction"
   ],
   "metadata": {
    "collapsed": false,
    "pycharm": {
     "name": "#%% md\n"
    }
   }
  },
  {
   "cell_type": "markdown",
   "source": [
    "Vous êtes développeur AI dans une startup de la Silicon Valley qui fournit des services dans le domaine de l'investissement immobilier.\n",
    "Les chargés de relation client ont mentionné que la demande a augmenté récemment et qu'il devient difficile de faire des estimations personnalisées.\n",
    "De ce fait, l'entreprise vous a confier d'automatiser cette tâche avec un modèle prédictif.\n",
    "Pour cela, vous avez récupéré une base de données qui contient les prix médians des logements pour les districts de Californie issus du recensement de 1990"
   ],
   "metadata": {
    "collapsed": false,
    "pycharm": {
     "name": "#%% md\n"
    }
   }
  },
  {
   "cell_type": "markdown",
   "source": [
    "## Meta data"
   ],
   "metadata": {
    "collapsed": false,
    "pycharm": {
     "name": "#%% md\n"
    }
   }
  },
  {
   "cell_type": "markdown",
   "source": [
    "`longitude`\n",
    "`latitude`\n",
    "`housingMedianAge` | Âge médian d'une maison dans un pâté de maisons ; un chiffre plus bas correspond à un bâtiment plus récent.\n",
    "`totalRooms` | Nombre total de chambres dans un bloc\n",
    "`totalBedrooms` |  Nombre total de chambres de lit dans un bloc\n",
    "`population` Nombre total de personnes résidant dans un bloc\n",
    "`households`| Nombre total de ménages, c'est-à-dire un groupe de personnes résidant dans une unité d'habitation, pour un bloc\n",
    "`medianIncome` | Revenu médian des ménages dans un bloc de maisons (mesuré en dizaines de milliers de dollars US)\n",
    "`medianHouseValue` | Valeur médiane des maisons pour les ménages d'un bloc (mesurée en dollars US)\n",
    "`oceanProximity` | Situation de la maison par rapport à la mer"
   ],
   "metadata": {
    "collapsed": false,
    "pycharm": {
     "name": "#%% md\n"
    }
   }
  },
  {
   "cell_type": "markdown",
   "source": [
    "## Importing Libraries"
   ],
   "metadata": {
    "collapsed": false,
    "pycharm": {
     "name": "#%% md\n"
    }
   }
  },
  {
   "cell_type": "code",
   "execution_count": 25,
   "outputs": [],
   "source": [
    "# Import needed libraries\n",
    "import numpy as np\n",
    "import pandas as pd\n",
    "import matplotlib.pyplot as plt\n",
    "import seaborn as sns\n",
    "\n",
    "from sklearn.model_selection import train_test_split\n",
    "\n",
    "from sklearn.linear_model import LinearRegression\n",
    "\n",
    "from sklearn.preprocessing import StandardScaler, MinMaxScaler\n",
    "\n",
    "#from sklearn.metrics import\n",
    "\n",
    "#from sklearn.metrics import roc_auc_score, plot_roc_curve, roc_curve\n",
    "#from sklearn.metrics import average_precision_score\n",
    "#from sklearn.metrics import precision_recall_curve,plot_precision_recall_curve\n",
    "\n",
    "#from sklearn.model_selection import learning_curve\n",
    "\n",
    "#from statsmodels.stats.outliers_influence import variance_inflation_factor as vif\n",
    "\n",
    "#from sklearn.inspection import permutation_importance\n",
    "#import warnings\n",
    "#warnings.simplefilter(action=\"ignore\")"
   ],
   "metadata": {
    "collapsed": false,
    "pycharm": {
     "name": "#%%\n"
    }
   }
  },
  {
   "cell_type": "markdown",
   "source": [
    "## Data Reading"
   ],
   "metadata": {
    "collapsed": false,
    "pycharm": {
     "name": "#%% md\n"
    }
   }
  },
  {
   "cell_type": "markdown",
   "source": [
    "### Reading data"
   ],
   "metadata": {
    "collapsed": false,
    "pycharm": {
     "name": "#%% md\n"
    }
   }
  },
  {
   "cell_type": "code",
   "execution_count": 19,
   "outputs": [
    {
     "data": {
      "text/plain": "       longitude  latitude  housing_median_age  total_rooms  total_bedrooms  \\\n0        -119.84     36.77                 6.0       1853.0           473.0   \n1        -117.80     33.68                 8.0       2032.0           349.0   \n2        -120.19     36.60                25.0        875.0           214.0   \n3        -118.32     34.10                31.0        622.0           229.0   \n4        -121.23     37.79                21.0       1922.0           373.0   \n...          ...       ...                 ...          ...             ...   \n16507    -121.90     39.59                20.0       1465.0           278.0   \n16508    -122.25     38.11                49.0       2365.0           504.0   \n16509    -121.22     38.92                19.0       2531.0           461.0   \n16510    -118.14     34.16                39.0       2776.0           840.0   \n16511    -124.13     40.80                31.0       2152.0           462.0   \n\n       population  households  median_income  median_house_value  \\\n0          1397.0       417.0        14817.0             72000.0   \n1           862.0       340.0        69133.0            274100.0   \n2           931.0       214.0        15536.0             58300.0   \n3           597.0       227.0        15284.0            200000.0   \n4          1130.0       372.0        40815.0            117900.0   \n...           ...         ...            ...                 ...   \n16507       745.0       250.0        30625.0             93800.0   \n16508      1131.0       458.0        26133.0            103100.0   \n16509      1206.0       429.0        44958.0            192600.0   \n16510      2546.0       773.0        25750.0            153500.0   \n16511      1259.0       420.0        22478.0             81100.0   \n\n      ocean_proximity  \n0              INLAND  \n1           <1H OCEAN  \n2              INLAND  \n3           <1H OCEAN  \n4              INLAND  \n...               ...  \n16507          INLAND  \n16508        NEAR BAY  \n16509          INLAND  \n16510       <1H OCEAN  \n16511      NEAR OCEAN  \n\n[16512 rows x 10 columns]",
      "text/html": "<div>\n<style scoped>\n    .dataframe tbody tr th:only-of-type {\n        vertical-align: middle;\n    }\n\n    .dataframe tbody tr th {\n        vertical-align: top;\n    }\n\n    .dataframe thead th {\n        text-align: right;\n    }\n</style>\n<table border=\"1\" class=\"dataframe\">\n  <thead>\n    <tr style=\"text-align: right;\">\n      <th></th>\n      <th>longitude</th>\n      <th>latitude</th>\n      <th>housing_median_age</th>\n      <th>total_rooms</th>\n      <th>total_bedrooms</th>\n      <th>population</th>\n      <th>households</th>\n      <th>median_income</th>\n      <th>median_house_value</th>\n      <th>ocean_proximity</th>\n    </tr>\n  </thead>\n  <tbody>\n    <tr>\n      <th>0</th>\n      <td>-119.84</td>\n      <td>36.77</td>\n      <td>6.0</td>\n      <td>1853.0</td>\n      <td>473.0</td>\n      <td>1397.0</td>\n      <td>417.0</td>\n      <td>14817.0</td>\n      <td>72000.0</td>\n      <td>INLAND</td>\n    </tr>\n    <tr>\n      <th>1</th>\n      <td>-117.80</td>\n      <td>33.68</td>\n      <td>8.0</td>\n      <td>2032.0</td>\n      <td>349.0</td>\n      <td>862.0</td>\n      <td>340.0</td>\n      <td>69133.0</td>\n      <td>274100.0</td>\n      <td>&lt;1H OCEAN</td>\n    </tr>\n    <tr>\n      <th>2</th>\n      <td>-120.19</td>\n      <td>36.60</td>\n      <td>25.0</td>\n      <td>875.0</td>\n      <td>214.0</td>\n      <td>931.0</td>\n      <td>214.0</td>\n      <td>15536.0</td>\n      <td>58300.0</td>\n      <td>INLAND</td>\n    </tr>\n    <tr>\n      <th>3</th>\n      <td>-118.32</td>\n      <td>34.10</td>\n      <td>31.0</td>\n      <td>622.0</td>\n      <td>229.0</td>\n      <td>597.0</td>\n      <td>227.0</td>\n      <td>15284.0</td>\n      <td>200000.0</td>\n      <td>&lt;1H OCEAN</td>\n    </tr>\n    <tr>\n      <th>4</th>\n      <td>-121.23</td>\n      <td>37.79</td>\n      <td>21.0</td>\n      <td>1922.0</td>\n      <td>373.0</td>\n      <td>1130.0</td>\n      <td>372.0</td>\n      <td>40815.0</td>\n      <td>117900.0</td>\n      <td>INLAND</td>\n    </tr>\n    <tr>\n      <th>...</th>\n      <td>...</td>\n      <td>...</td>\n      <td>...</td>\n      <td>...</td>\n      <td>...</td>\n      <td>...</td>\n      <td>...</td>\n      <td>...</td>\n      <td>...</td>\n      <td>...</td>\n    </tr>\n    <tr>\n      <th>16507</th>\n      <td>-121.90</td>\n      <td>39.59</td>\n      <td>20.0</td>\n      <td>1465.0</td>\n      <td>278.0</td>\n      <td>745.0</td>\n      <td>250.0</td>\n      <td>30625.0</td>\n      <td>93800.0</td>\n      <td>INLAND</td>\n    </tr>\n    <tr>\n      <th>16508</th>\n      <td>-122.25</td>\n      <td>38.11</td>\n      <td>49.0</td>\n      <td>2365.0</td>\n      <td>504.0</td>\n      <td>1131.0</td>\n      <td>458.0</td>\n      <td>26133.0</td>\n      <td>103100.0</td>\n      <td>NEAR BAY</td>\n    </tr>\n    <tr>\n      <th>16509</th>\n      <td>-121.22</td>\n      <td>38.92</td>\n      <td>19.0</td>\n      <td>2531.0</td>\n      <td>461.0</td>\n      <td>1206.0</td>\n      <td>429.0</td>\n      <td>44958.0</td>\n      <td>192600.0</td>\n      <td>INLAND</td>\n    </tr>\n    <tr>\n      <th>16510</th>\n      <td>-118.14</td>\n      <td>34.16</td>\n      <td>39.0</td>\n      <td>2776.0</td>\n      <td>840.0</td>\n      <td>2546.0</td>\n      <td>773.0</td>\n      <td>25750.0</td>\n      <td>153500.0</td>\n      <td>&lt;1H OCEAN</td>\n    </tr>\n    <tr>\n      <th>16511</th>\n      <td>-124.13</td>\n      <td>40.80</td>\n      <td>31.0</td>\n      <td>2152.0</td>\n      <td>462.0</td>\n      <td>1259.0</td>\n      <td>420.0</td>\n      <td>22478.0</td>\n      <td>81100.0</td>\n      <td>NEAR OCEAN</td>\n    </tr>\n  </tbody>\n</table>\n<p>16512 rows × 10 columns</p>\n</div>"
     },
     "execution_count": 19,
     "metadata": {},
     "output_type": "execute_result"
    }
   ],
   "source": [
    "# importing cleaned dataset w/out missing values, duplicates and capped outliers to 10th and  90th percentiles\n",
    "df = pd.read_csv(r'../data/data_cleaned.csv')\n",
    "df"
   ],
   "metadata": {
    "collapsed": false,
    "pycharm": {
     "name": "#%%\n"
    }
   }
  },
  {
   "cell_type": "markdown",
   "source": [
    "## Feature Engineering"
   ],
   "metadata": {
    "collapsed": false,
    "pycharm": {
     "name": "#%% md\n"
    }
   }
  },
  {
   "cell_type": "markdown",
   "source": [
    "### Encoding"
   ],
   "metadata": {
    "collapsed": false,
    "pycharm": {
     "name": "#%% md\n"
    }
   }
  },
  {
   "cell_type": "markdown",
   "source": [
    "We'll need to use either one-hot or dummy feature encoding methods since if we categorize 'ocean_proximity' feature with an ordinal encoding, it'll cause an increase of feature's weight, affecting model's predictivity performance, giving a 'preference' to some instance (individuals) which have been feature labeled with highest 'class' category."
   ],
   "metadata": {
    "collapsed": false,
    "pycharm": {
     "name": "#%% md\n"
    }
   }
  },
  {
   "cell_type": "markdown",
   "source": [
    "We'll use then dummy feature encoding"
   ],
   "metadata": {
    "collapsed": false,
    "pycharm": {
     "name": "#%% md\n"
    }
   }
  },
  {
   "cell_type": "code",
   "execution_count": 20,
   "outputs": [
    {
     "name": "stdout",
     "output_type": "stream",
     "text": [
      "       <1H OCEAN  INLAND  ISLAND  NEAR BAY  NEAR OCEAN\n",
      "0              0       1       0         0           0\n",
      "1              1       0       0         0           0\n",
      "2              0       1       0         0           0\n",
      "3              1       0       0         0           0\n",
      "4              0       1       0         0           0\n",
      "...          ...     ...     ...       ...         ...\n",
      "16507          0       1       0         0           0\n",
      "16508          0       0       0         1           0\n",
      "16509          0       1       0         0           0\n",
      "16510          1       0       0         0           0\n",
      "16511          0       0       0         0           1\n",
      "\n",
      "[16512 rows x 5 columns]\n"
     ]
    }
   ],
   "source": [
    "# Using get_dummies() pandas method to return a dataframe with ocean_proximity instances as dummy variables.\n",
    "dummy_ocn_prx = pd.get_dummies(df.ocean_proximity)\n",
    "print(dummy_ocn_prx)"
   ],
   "metadata": {
    "collapsed": false,
    "pycharm": {
     "name": "#%%\n"
    }
   }
  },
  {
   "cell_type": "code",
   "execution_count": 21,
   "outputs": [
    {
     "data": {
      "text/plain": "       longitude  latitude  housing_median_age  total_rooms  total_bedrooms  \\\n0        -119.84     36.77                 6.0       1853.0           473.0   \n1        -117.80     33.68                 8.0       2032.0           349.0   \n2        -120.19     36.60                25.0        875.0           214.0   \n3        -118.32     34.10                31.0        622.0           229.0   \n4        -121.23     37.79                21.0       1922.0           373.0   \n...          ...       ...                 ...          ...             ...   \n16507    -121.90     39.59                20.0       1465.0           278.0   \n16508    -122.25     38.11                49.0       2365.0           504.0   \n16509    -121.22     38.92                19.0       2531.0           461.0   \n16510    -118.14     34.16                39.0       2776.0           840.0   \n16511    -124.13     40.80                31.0       2152.0           462.0   \n\n       population  households  median_income  median_house_value  <1H OCEAN  \\\n0          1397.0       417.0        14817.0             72000.0          0   \n1           862.0       340.0        69133.0            274100.0          1   \n2           931.0       214.0        15536.0             58300.0          0   \n3           597.0       227.0        15284.0            200000.0          1   \n4          1130.0       372.0        40815.0            117900.0          0   \n...           ...         ...            ...                 ...        ...   \n16507       745.0       250.0        30625.0             93800.0          0   \n16508      1131.0       458.0        26133.0            103100.0          0   \n16509      1206.0       429.0        44958.0            192600.0          0   \n16510      2546.0       773.0        25750.0            153500.0          1   \n16511      1259.0       420.0        22478.0             81100.0          0   \n\n       INLAND  ISLAND  NEAR BAY  NEAR OCEAN  \n0           1       0         0           0  \n1           0       0         0           0  \n2           1       0         0           0  \n3           0       0         0           0  \n4           1       0         0           0  \n...       ...     ...       ...         ...  \n16507       1       0         0           0  \n16508       0       0         1           0  \n16509       1       0         0           0  \n16510       0       0         0           0  \n16511       0       0         0           1  \n\n[16512 rows x 14 columns]",
      "text/html": "<div>\n<style scoped>\n    .dataframe tbody tr th:only-of-type {\n        vertical-align: middle;\n    }\n\n    .dataframe tbody tr th {\n        vertical-align: top;\n    }\n\n    .dataframe thead th {\n        text-align: right;\n    }\n</style>\n<table border=\"1\" class=\"dataframe\">\n  <thead>\n    <tr style=\"text-align: right;\">\n      <th></th>\n      <th>longitude</th>\n      <th>latitude</th>\n      <th>housing_median_age</th>\n      <th>total_rooms</th>\n      <th>total_bedrooms</th>\n      <th>population</th>\n      <th>households</th>\n      <th>median_income</th>\n      <th>median_house_value</th>\n      <th>&lt;1H OCEAN</th>\n      <th>INLAND</th>\n      <th>ISLAND</th>\n      <th>NEAR BAY</th>\n      <th>NEAR OCEAN</th>\n    </tr>\n  </thead>\n  <tbody>\n    <tr>\n      <th>0</th>\n      <td>-119.84</td>\n      <td>36.77</td>\n      <td>6.0</td>\n      <td>1853.0</td>\n      <td>473.0</td>\n      <td>1397.0</td>\n      <td>417.0</td>\n      <td>14817.0</td>\n      <td>72000.0</td>\n      <td>0</td>\n      <td>1</td>\n      <td>0</td>\n      <td>0</td>\n      <td>0</td>\n    </tr>\n    <tr>\n      <th>1</th>\n      <td>-117.80</td>\n      <td>33.68</td>\n      <td>8.0</td>\n      <td>2032.0</td>\n      <td>349.0</td>\n      <td>862.0</td>\n      <td>340.0</td>\n      <td>69133.0</td>\n      <td>274100.0</td>\n      <td>1</td>\n      <td>0</td>\n      <td>0</td>\n      <td>0</td>\n      <td>0</td>\n    </tr>\n    <tr>\n      <th>2</th>\n      <td>-120.19</td>\n      <td>36.60</td>\n      <td>25.0</td>\n      <td>875.0</td>\n      <td>214.0</td>\n      <td>931.0</td>\n      <td>214.0</td>\n      <td>15536.0</td>\n      <td>58300.0</td>\n      <td>0</td>\n      <td>1</td>\n      <td>0</td>\n      <td>0</td>\n      <td>0</td>\n    </tr>\n    <tr>\n      <th>3</th>\n      <td>-118.32</td>\n      <td>34.10</td>\n      <td>31.0</td>\n      <td>622.0</td>\n      <td>229.0</td>\n      <td>597.0</td>\n      <td>227.0</td>\n      <td>15284.0</td>\n      <td>200000.0</td>\n      <td>1</td>\n      <td>0</td>\n      <td>0</td>\n      <td>0</td>\n      <td>0</td>\n    </tr>\n    <tr>\n      <th>4</th>\n      <td>-121.23</td>\n      <td>37.79</td>\n      <td>21.0</td>\n      <td>1922.0</td>\n      <td>373.0</td>\n      <td>1130.0</td>\n      <td>372.0</td>\n      <td>40815.0</td>\n      <td>117900.0</td>\n      <td>0</td>\n      <td>1</td>\n      <td>0</td>\n      <td>0</td>\n      <td>0</td>\n    </tr>\n    <tr>\n      <th>...</th>\n      <td>...</td>\n      <td>...</td>\n      <td>...</td>\n      <td>...</td>\n      <td>...</td>\n      <td>...</td>\n      <td>...</td>\n      <td>...</td>\n      <td>...</td>\n      <td>...</td>\n      <td>...</td>\n      <td>...</td>\n      <td>...</td>\n      <td>...</td>\n    </tr>\n    <tr>\n      <th>16507</th>\n      <td>-121.90</td>\n      <td>39.59</td>\n      <td>20.0</td>\n      <td>1465.0</td>\n      <td>278.0</td>\n      <td>745.0</td>\n      <td>250.0</td>\n      <td>30625.0</td>\n      <td>93800.0</td>\n      <td>0</td>\n      <td>1</td>\n      <td>0</td>\n      <td>0</td>\n      <td>0</td>\n    </tr>\n    <tr>\n      <th>16508</th>\n      <td>-122.25</td>\n      <td>38.11</td>\n      <td>49.0</td>\n      <td>2365.0</td>\n      <td>504.0</td>\n      <td>1131.0</td>\n      <td>458.0</td>\n      <td>26133.0</td>\n      <td>103100.0</td>\n      <td>0</td>\n      <td>0</td>\n      <td>0</td>\n      <td>1</td>\n      <td>0</td>\n    </tr>\n    <tr>\n      <th>16509</th>\n      <td>-121.22</td>\n      <td>38.92</td>\n      <td>19.0</td>\n      <td>2531.0</td>\n      <td>461.0</td>\n      <td>1206.0</td>\n      <td>429.0</td>\n      <td>44958.0</td>\n      <td>192600.0</td>\n      <td>0</td>\n      <td>1</td>\n      <td>0</td>\n      <td>0</td>\n      <td>0</td>\n    </tr>\n    <tr>\n      <th>16510</th>\n      <td>-118.14</td>\n      <td>34.16</td>\n      <td>39.0</td>\n      <td>2776.0</td>\n      <td>840.0</td>\n      <td>2546.0</td>\n      <td>773.0</td>\n      <td>25750.0</td>\n      <td>153500.0</td>\n      <td>1</td>\n      <td>0</td>\n      <td>0</td>\n      <td>0</td>\n      <td>0</td>\n    </tr>\n    <tr>\n      <th>16511</th>\n      <td>-124.13</td>\n      <td>40.80</td>\n      <td>31.0</td>\n      <td>2152.0</td>\n      <td>462.0</td>\n      <td>1259.0</td>\n      <td>420.0</td>\n      <td>22478.0</td>\n      <td>81100.0</td>\n      <td>0</td>\n      <td>0</td>\n      <td>0</td>\n      <td>0</td>\n      <td>1</td>\n    </tr>\n  </tbody>\n</table>\n<p>16512 rows × 14 columns</p>\n</div>"
     },
     "execution_count": 21,
     "metadata": {},
     "output_type": "execute_result"
    }
   ],
   "source": [
    "# dropping unneeded ocean_proximity raw feature\n",
    "df = df.drop(['ocean_proximity'], axis=1)\n",
    "# merging encoded feature instances into the scaled dataframe\n",
    "df = pd.merge(\n",
    "    left=df,\n",
    "    right=dummy_ocn_prx,\n",
    "    left_index=True,\n",
    "    right_index=True,\n",
    ")\n",
    "df"
   ],
   "metadata": {
    "collapsed": false,
    "pycharm": {
     "name": "#%%\n"
    }
   }
  },
  {
   "cell_type": "markdown",
   "source": [
    "## Building a baseline model\n",
    "### Linear regression"
   ],
   "metadata": {
    "collapsed": false,
    "pycharm": {
     "name": "#%% md\n"
    }
   }
  },
  {
   "cell_type": "markdown",
   "source": [
    "#### Hold-out split"
   ],
   "metadata": {
    "collapsed": false,
    "pycharm": {
     "name": "#%% md\n"
    }
   }
  },
  {
   "cell_type": "code",
   "execution_count": 95,
   "outputs": [],
   "source": [
    "# define X, y\n",
    "X = df.drop(\"median_house_value\", axis=1)\n",
    "y = df[\"median_house_value\"]"
   ],
   "metadata": {
    "collapsed": false,
    "pycharm": {
     "name": "#%%\n"
    }
   }
  },
  {
   "cell_type": "code",
   "execution_count": 23,
   "outputs": [],
   "source": [
    "X_train, X_test, y_train, y_test = train_test_split(X, y, test_size=0.33, random_state=42)"
   ],
   "metadata": {
    "collapsed": false,
    "pycharm": {
     "name": "#%%\n"
    }
   }
  },
  {
   "cell_type": "markdown",
   "source": [
    "#### Instantiate Linear regression model"
   ],
   "metadata": {
    "collapsed": false,
    "pycharm": {
     "name": "#%% md\n"
    }
   }
  },
  {
   "cell_type": "code",
   "execution_count": 24,
   "outputs": [
    {
     "data": {
      "text/plain": "0.6562230949358678"
     },
     "execution_count": 24,
     "metadata": {},
     "output_type": "execute_result"
    }
   ],
   "source": [
    "reg = LinearRegression().fit(X_train, y_train)\n",
    "reg.predict(X_test)\n",
    "# return model's score\n",
    "reg.score(X_test, y_test)"
   ],
   "metadata": {
    "collapsed": false,
    "pycharm": {
     "name": "#%%\n"
    }
   }
  },
  {
   "cell_type": "markdown",
   "source": [
    "## First Iteration : Data Cleaning Part 2"
   ],
   "metadata": {
    "collapsed": false,
    "pycharm": {
     "name": "#%% md\n"
    }
   }
  },
  {
   "cell_type": "markdown",
   "source": [
    "### Scaling\n",
    "\n",
    "*Does your data need scaling / normalizing across the feature lists?*\n",
    "*What kind of scaling method would you do ? ( Standard Scaling / Min-Max Scaling?)*\n",
    "\n",
    "- Our data needs to be scaled since the feature's seems to be uniform, but it would be necessary to be normalized as well if model's metrics shows there's a vast quantity of outliers.\n",
    "\n",
    "- We would perform then Standard Scaling method"
   ],
   "metadata": {
    "collapsed": false,
    "pycharm": {
     "name": "#%% md\n"
    }
   }
  },
  {
   "cell_type": "code",
   "execution_count": 96,
   "outputs": [],
   "source": [
    "# dropping categorical ocean_proximity feature since it doesn't need to be standardized as it has been encoded by a feature engineering encoding.\n",
    "\n",
    "X = X.iloc[:, :8]\n",
    "\n",
    "# be aware -> the scale of the two variables is different, so we need to use a model that does not require any normalization, otherwise we might have to perform normalization and include them in the feature set as they are, w/out scaling.\n",
    "X_scaled = pd.DataFrame(StandardScaler().fit_transform(X), columns = X.columns)\n",
    "\n",
    "# Reinserting ocean_proximity encoded categories into scaled dataset\n",
    "X_scaled = pd.merge(\n",
    "    left=X_scaled,\n",
    "    right=df.iloc[:, 9:],\n",
    "    left_index=True,\n",
    "    right_index=True,\n",
    ")\n",
    "\n",
    "# Splitting data set\n",
    "X_train, X_test, y_train, y_test = train_test_split(X_scaled, y, test_size=0.33, random_state=42)"
   ],
   "metadata": {
    "collapsed": false,
    "pycharm": {
     "name": "#%%\n"
    }
   }
  },
  {
   "cell_type": "markdown",
   "source": [
    "#### Instantiate Linear regression model"
   ],
   "metadata": {
    "collapsed": false,
    "pycharm": {
     "name": "#%% md\n"
    }
   }
  },
  {
   "cell_type": "code",
   "execution_count": 97,
   "outputs": [
    {
     "data": {
      "text/plain": "0.6562230949358718"
     },
     "execution_count": 97,
     "metadata": {},
     "output_type": "execute_result"
    }
   ],
   "source": [
    "reg = LinearRegression().fit(X_train, y_train)\n",
    "reg.predict(X_test)\n",
    "# return model's score\n",
    "reg.score(X_test, y_test)"
   ],
   "metadata": {
    "collapsed": false,
    "pycharm": {
     "name": "#%%\n"
    }
   }
  },
  {
   "cell_type": "markdown",
   "source": [
    "### *Notes*\n",
    "\n",
    "fdzefzefZ"
   ],
   "metadata": {
    "collapsed": false,
    "pycharm": {
     "name": "#%% md\n"
    }
   }
  },
  {
   "cell_type": "code",
   "execution_count": null,
   "outputs": [],
   "source": [],
   "metadata": {
    "collapsed": false,
    "pycharm": {
     "name": "#%%\n"
    }
   }
  },
  {
   "cell_type": "code",
   "execution_count": null,
   "outputs": [],
   "source": [],
   "metadata": {
    "collapsed": false,
    "pycharm": {
     "name": "#%%\n"
    }
   }
  },
  {
   "cell_type": "code",
   "execution_count": null,
   "outputs": [],
   "source": [],
   "metadata": {
    "collapsed": false,
    "pycharm": {
     "name": "#%%\n"
    }
   }
  },
  {
   "cell_type": "code",
   "execution_count": null,
   "outputs": [],
   "source": [],
   "metadata": {
    "collapsed": false,
    "pycharm": {
     "name": "#%%\n"
    }
   }
  },
  {
   "cell_type": "markdown",
   "source": [],
   "metadata": {
    "collapsed": false,
    "pycharm": {
     "name": "#%% md\n"
    }
   }
  }
 ],
 "metadata": {
  "kernelspec": {
   "display_name": "Python 3 (ipykernel)",
   "language": "python",
   "name": "python3"
  },
  "language_info": {
   "codemirror_mode": {
    "name": "ipython",
    "version": 3
   },
   "file_extension": ".py",
   "mimetype": "text/x-python",
   "name": "python",
   "nbconvert_exporter": "python",
   "pygments_lexer": "ipython3",
   "version": "3.9.7"
  }
 },
 "nbformat": 4,
 "nbformat_minor": 5
}